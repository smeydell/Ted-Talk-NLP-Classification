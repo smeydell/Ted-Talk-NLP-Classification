{
 "cells": [
  {
   "cell_type": "markdown",
   "metadata": {},
   "source": [
    "# Objective\n",
    "To automatically categorize/tag TED Talk videos based on a series of features provided in a sample dataset, link below.\n",
    "Once the text data has been cleaned and prepared, various Classification models will be trained on the sample dataset.\n",
    "\n",
    "There are two datasets provided: the main summary and the transcripts\n",
    "\n",
    "**TED Talks: Summary**\n",
    "https://www.kaggle.com/rounakbanik/ted-talks?select=ted_main.csv\n",
    "\n",
    "**TED Talks: Transcripts**\n",
    "https://www.kaggle.com/rounakbanik/ted-talks?select=transcripts.csv"
   ]
  },
  {
   "cell_type": "markdown",
   "metadata": {},
   "source": [
    "# Problem Statement\n",
    "\n",
    "The data provided, in its raw format, does not make for easy classification and statistical analysis of the various TED Talks. An automated, and simplified, approach that could quickly classify (tag) a given TED talk, based on other similar feature patterns, would allow for improved viewer experiences from accurate user preference alignment."
   ]
  },
  {
   "cell_type": "markdown",
   "metadata": {},
   "source": [
    "### Data Provided - Summary:\n",
    "\n",
    "- **Comments:** The number of first level comments made on the talk\n",
    "- **Description:** A blurb of what the talk is about\n",
    "- **Duration:** The duration of the talk in seconds\n",
    "- **Event:** The TED/TEDx event where the talk took place\n",
    "- **Film_date:** The Unix timestamp of the filming\n",
    "- **Languages:** The number of languages in which the talk is available\n",
    "- **Main_speaker:** The first named speaker of the talk\n",
    "- **Name:** The official name of the TED Talk; includes the title and the speaker\n",
    "- **Num_speaker:** The number of speakers in the talk\n",
    "- **Published_date:** The Unix timestamp for the publication of the talk on TED.com\n",
    "- **Ratings:** Groups of ratings assinged to each talk\n",
    "- **Related_talks:** Similar talks/links\n",
    "- **Speaker_occupation:** Primary speaker occupation/focus\n",
    "- **Tags:** Tags assinged to the talk\n",
    "- **Title:** Title of TED talk\n",
    "- **Url:** The URL of the talk\n",
    "- **Views:** Total views for talk\n",
    "\n",
    "### Data Provided - Transcript:\n",
    "- **Transcript:** The official English transcript of the talk\n",
    "- **URL:** The URL of the talk"
   ]
  },
  {
   "cell_type": "code",
   "execution_count": 49,
   "metadata": {},
   "outputs": [],
   "source": [
    "# Import neccessary libaries\n",
    "\n",
    "import pandas as pd # Dataframes\n",
    "import numpy as np # Arrays and Math\n",
    "\n",
    "# Pandas Profiling Summary report\n",
    "from pandas_profiling import profile_report\n",
    "\n",
    "# Visual libraries\n",
    "import seaborn as sns\n",
    "import plotly.graph_objects as go\n",
    "import plotly.express as pe\n",
    "import matplotlib.pyplot as plt\n",
    "\n",
    "# set plt inline so plots will automatically run without the .show() command\n",
    "%matplotlib inline \n",
    "\n",
    "# Warnings set to Ignore messages\n",
    "import warnings\n",
    "warnings.filterwarnings('ignore')\n",
    "\n",
    "# Natural Language Processing (NLP)\n",
    "import string \n",
    "import re # RegEX library for specific text isolation\n",
    "\n",
    "from nltk.tokenize import sent_tokenize, word_tokenize # Tokenize sentences, then words with NLTK\n",
    "from nltk.corpus import stopwords # Remove stopwords (the, a, is, are, etc.)\n",
    "from nltk.stem import PorterStemmer # Reduce words back to original base word stem\n",
    "from nltk import FreqDist # Counts frequency of word distributions\n",
    "\n",
    "import textstat # Library to count to calculate statistics from text, readability, complexity, etc.\n",
    "\n",
    "import ast # Abstract Syntax Tree - to help identify and segment information (text) imbedded in lists/dictionaries, etc."
   ]
  },
  {
   "cell_type": "markdown",
   "metadata": {},
   "source": [
    "#### Importing Dataset 1: Summary Details"
   ]
  },
  {
   "cell_type": "code",
   "execution_count": 50,
   "metadata": {},
   "outputs": [],
   "source": [
    "# Import the TED summary dataset as a DataFrame\n",
    "data1 = pd.read_csv('ted_main.csv')"
   ]
  },
  {
   "cell_type": "markdown",
   "metadata": {},
   "source": [
    "#### Importing Dataset 2: Transcripts"
   ]
  },
  {
   "cell_type": "code",
   "execution_count": 51,
   "metadata": {},
   "outputs": [],
   "source": [
    "# Import the TED transcripts dataset as a DataFrame\n",
    "data2 = pd.read_csv('transcripts.csv')"
   ]
  },
  {
   "cell_type": "code",
   "execution_count": 52,
   "metadata": {},
   "outputs": [],
   "source": [
    "# Create a copy DataFrame for each dataset, keeping data as backup if needed\n",
    "TED_summ = data1.copy()\n",
    "\n",
    "TED_trans = data2.copy()"
   ]
  },
  {
   "cell_type": "code",
   "execution_count": 53,
   "metadata": {
    "scrolled": false
   },
   "outputs": [
    {
     "data": {
      "text/html": [
       "<div>\n",
       "<style scoped>\n",
       "    .dataframe tbody tr th:only-of-type {\n",
       "        vertical-align: middle;\n",
       "    }\n",
       "\n",
       "    .dataframe tbody tr th {\n",
       "        vertical-align: top;\n",
       "    }\n",
       "\n",
       "    .dataframe thead th {\n",
       "        text-align: right;\n",
       "    }\n",
       "</style>\n",
       "<table border=\"1\" class=\"dataframe\">\n",
       "  <thead>\n",
       "    <tr style=\"text-align: right;\">\n",
       "      <th></th>\n",
       "      <th>comments</th>\n",
       "      <th>description</th>\n",
       "      <th>duration</th>\n",
       "      <th>event</th>\n",
       "      <th>film_date</th>\n",
       "      <th>languages</th>\n",
       "      <th>main_speaker</th>\n",
       "      <th>name</th>\n",
       "      <th>num_speaker</th>\n",
       "      <th>published_date</th>\n",
       "      <th>ratings</th>\n",
       "      <th>related_talks</th>\n",
       "      <th>speaker_occupation</th>\n",
       "      <th>tags</th>\n",
       "      <th>title</th>\n",
       "      <th>url</th>\n",
       "      <th>views</th>\n",
       "    </tr>\n",
       "  </thead>\n",
       "  <tbody>\n",
       "    <tr>\n",
       "      <th>0</th>\n",
       "      <td>4553</td>\n",
       "      <td>Sir Ken Robinson makes an entertaining and pro...</td>\n",
       "      <td>1164</td>\n",
       "      <td>TED2006</td>\n",
       "      <td>1140825600</td>\n",
       "      <td>60</td>\n",
       "      <td>Ken Robinson</td>\n",
       "      <td>Ken Robinson: Do schools kill creativity?</td>\n",
       "      <td>1</td>\n",
       "      <td>1151367060</td>\n",
       "      <td>[{'id': 7, 'name': 'Funny', 'count': 19645}, {...</td>\n",
       "      <td>[{'id': 865, 'hero': 'https://pe.tedcdn.com/im...</td>\n",
       "      <td>Author/educator</td>\n",
       "      <td>['children', 'creativity', 'culture', 'dance',...</td>\n",
       "      <td>Do schools kill creativity?</td>\n",
       "      <td>https://www.ted.com/talks/ken_robinson_says_sc...</td>\n",
       "      <td>47227110</td>\n",
       "    </tr>\n",
       "    <tr>\n",
       "      <th>1</th>\n",
       "      <td>265</td>\n",
       "      <td>With the same humor and humanity he exuded in ...</td>\n",
       "      <td>977</td>\n",
       "      <td>TED2006</td>\n",
       "      <td>1140825600</td>\n",
       "      <td>43</td>\n",
       "      <td>Al Gore</td>\n",
       "      <td>Al Gore: Averting the climate crisis</td>\n",
       "      <td>1</td>\n",
       "      <td>1151367060</td>\n",
       "      <td>[{'id': 7, 'name': 'Funny', 'count': 544}, {'i...</td>\n",
       "      <td>[{'id': 243, 'hero': 'https://pe.tedcdn.com/im...</td>\n",
       "      <td>Climate advocate</td>\n",
       "      <td>['alternative energy', 'cars', 'climate change...</td>\n",
       "      <td>Averting the climate crisis</td>\n",
       "      <td>https://www.ted.com/talks/al_gore_on_averting_...</td>\n",
       "      <td>3200520</td>\n",
       "    </tr>\n",
       "    <tr>\n",
       "      <th>2</th>\n",
       "      <td>124</td>\n",
       "      <td>New York Times columnist David Pogue takes aim...</td>\n",
       "      <td>1286</td>\n",
       "      <td>TED2006</td>\n",
       "      <td>1140739200</td>\n",
       "      <td>26</td>\n",
       "      <td>David Pogue</td>\n",
       "      <td>David Pogue: Simplicity sells</td>\n",
       "      <td>1</td>\n",
       "      <td>1151367060</td>\n",
       "      <td>[{'id': 7, 'name': 'Funny', 'count': 964}, {'i...</td>\n",
       "      <td>[{'id': 1725, 'hero': 'https://pe.tedcdn.com/i...</td>\n",
       "      <td>Technology columnist</td>\n",
       "      <td>['computers', 'entertainment', 'interface desi...</td>\n",
       "      <td>Simplicity sells</td>\n",
       "      <td>https://www.ted.com/talks/david_pogue_says_sim...</td>\n",
       "      <td>1636292</td>\n",
       "    </tr>\n",
       "    <tr>\n",
       "      <th>3</th>\n",
       "      <td>200</td>\n",
       "      <td>In an emotionally charged talk, MacArthur-winn...</td>\n",
       "      <td>1116</td>\n",
       "      <td>TED2006</td>\n",
       "      <td>1140912000</td>\n",
       "      <td>35</td>\n",
       "      <td>Majora Carter</td>\n",
       "      <td>Majora Carter: Greening the ghetto</td>\n",
       "      <td>1</td>\n",
       "      <td>1151367060</td>\n",
       "      <td>[{'id': 3, 'name': 'Courageous', 'count': 760}...</td>\n",
       "      <td>[{'id': 1041, 'hero': 'https://pe.tedcdn.com/i...</td>\n",
       "      <td>Activist for environmental justice</td>\n",
       "      <td>['MacArthur grant', 'activism', 'business', 'c...</td>\n",
       "      <td>Greening the ghetto</td>\n",
       "      <td>https://www.ted.com/talks/majora_carter_s_tale...</td>\n",
       "      <td>1697550</td>\n",
       "    </tr>\n",
       "    <tr>\n",
       "      <th>4</th>\n",
       "      <td>593</td>\n",
       "      <td>You've never seen data presented like this. Wi...</td>\n",
       "      <td>1190</td>\n",
       "      <td>TED2006</td>\n",
       "      <td>1140566400</td>\n",
       "      <td>48</td>\n",
       "      <td>Hans Rosling</td>\n",
       "      <td>Hans Rosling: The best stats you've ever seen</td>\n",
       "      <td>1</td>\n",
       "      <td>1151440680</td>\n",
       "      <td>[{'id': 9, 'name': 'Ingenious', 'count': 3202}...</td>\n",
       "      <td>[{'id': 2056, 'hero': 'https://pe.tedcdn.com/i...</td>\n",
       "      <td>Global health expert; data visionary</td>\n",
       "      <td>['Africa', 'Asia', 'Google', 'demo', 'economic...</td>\n",
       "      <td>The best stats you've ever seen</td>\n",
       "      <td>https://www.ted.com/talks/hans_rosling_shows_t...</td>\n",
       "      <td>12005869</td>\n",
       "    </tr>\n",
       "  </tbody>\n",
       "</table>\n",
       "</div>"
      ],
      "text/plain": [
       "   comments                                        description  duration  \\\n",
       "0      4553  Sir Ken Robinson makes an entertaining and pro...      1164   \n",
       "1       265  With the same humor and humanity he exuded in ...       977   \n",
       "2       124  New York Times columnist David Pogue takes aim...      1286   \n",
       "3       200  In an emotionally charged talk, MacArthur-winn...      1116   \n",
       "4       593  You've never seen data presented like this. Wi...      1190   \n",
       "\n",
       "     event   film_date  languages   main_speaker  \\\n",
       "0  TED2006  1140825600         60   Ken Robinson   \n",
       "1  TED2006  1140825600         43        Al Gore   \n",
       "2  TED2006  1140739200         26    David Pogue   \n",
       "3  TED2006  1140912000         35  Majora Carter   \n",
       "4  TED2006  1140566400         48   Hans Rosling   \n",
       "\n",
       "                                            name  num_speaker  published_date  \\\n",
       "0      Ken Robinson: Do schools kill creativity?            1      1151367060   \n",
       "1           Al Gore: Averting the climate crisis            1      1151367060   \n",
       "2                  David Pogue: Simplicity sells            1      1151367060   \n",
       "3             Majora Carter: Greening the ghetto            1      1151367060   \n",
       "4  Hans Rosling: The best stats you've ever seen            1      1151440680   \n",
       "\n",
       "                                             ratings  \\\n",
       "0  [{'id': 7, 'name': 'Funny', 'count': 19645}, {...   \n",
       "1  [{'id': 7, 'name': 'Funny', 'count': 544}, {'i...   \n",
       "2  [{'id': 7, 'name': 'Funny', 'count': 964}, {'i...   \n",
       "3  [{'id': 3, 'name': 'Courageous', 'count': 760}...   \n",
       "4  [{'id': 9, 'name': 'Ingenious', 'count': 3202}...   \n",
       "\n",
       "                                       related_talks  \\\n",
       "0  [{'id': 865, 'hero': 'https://pe.tedcdn.com/im...   \n",
       "1  [{'id': 243, 'hero': 'https://pe.tedcdn.com/im...   \n",
       "2  [{'id': 1725, 'hero': 'https://pe.tedcdn.com/i...   \n",
       "3  [{'id': 1041, 'hero': 'https://pe.tedcdn.com/i...   \n",
       "4  [{'id': 2056, 'hero': 'https://pe.tedcdn.com/i...   \n",
       "\n",
       "                     speaker_occupation  \\\n",
       "0                       Author/educator   \n",
       "1                      Climate advocate   \n",
       "2                  Technology columnist   \n",
       "3    Activist for environmental justice   \n",
       "4  Global health expert; data visionary   \n",
       "\n",
       "                                                tags  \\\n",
       "0  ['children', 'creativity', 'culture', 'dance',...   \n",
       "1  ['alternative energy', 'cars', 'climate change...   \n",
       "2  ['computers', 'entertainment', 'interface desi...   \n",
       "3  ['MacArthur grant', 'activism', 'business', 'c...   \n",
       "4  ['Africa', 'Asia', 'Google', 'demo', 'economic...   \n",
       "\n",
       "                             title  \\\n",
       "0      Do schools kill creativity?   \n",
       "1      Averting the climate crisis   \n",
       "2                 Simplicity sells   \n",
       "3              Greening the ghetto   \n",
       "4  The best stats you've ever seen   \n",
       "\n",
       "                                                 url     views  \n",
       "0  https://www.ted.com/talks/ken_robinson_says_sc...  47227110  \n",
       "1  https://www.ted.com/talks/al_gore_on_averting_...   3200520  \n",
       "2  https://www.ted.com/talks/david_pogue_says_sim...   1636292  \n",
       "3  https://www.ted.com/talks/majora_carter_s_tale...   1697550  \n",
       "4  https://www.ted.com/talks/hans_rosling_shows_t...  12005869  "
      ]
     },
     "execution_count": 53,
     "metadata": {},
     "output_type": "execute_result"
    }
   ],
   "source": [
    "# View the top 5 rows of data - Summary\n",
    "TED_summ.head()"
   ]
  },
  {
   "cell_type": "code",
   "execution_count": 54,
   "metadata": {},
   "outputs": [
    {
     "data": {
      "text/html": [
       "<div>\n",
       "<style scoped>\n",
       "    .dataframe tbody tr th:only-of-type {\n",
       "        vertical-align: middle;\n",
       "    }\n",
       "\n",
       "    .dataframe tbody tr th {\n",
       "        vertical-align: top;\n",
       "    }\n",
       "\n",
       "    .dataframe thead th {\n",
       "        text-align: right;\n",
       "    }\n",
       "</style>\n",
       "<table border=\"1\" class=\"dataframe\">\n",
       "  <thead>\n",
       "    <tr style=\"text-align: right;\">\n",
       "      <th></th>\n",
       "      <th>transcript</th>\n",
       "      <th>url</th>\n",
       "    </tr>\n",
       "  </thead>\n",
       "  <tbody>\n",
       "    <tr>\n",
       "      <th>0</th>\n",
       "      <td>Good morning. How are you?(Laughter)It's been ...</td>\n",
       "      <td>https://www.ted.com/talks/ken_robinson_says_sc...</td>\n",
       "    </tr>\n",
       "    <tr>\n",
       "      <th>1</th>\n",
       "      <td>Thank you so much, Chris. And it's truly a gre...</td>\n",
       "      <td>https://www.ted.com/talks/al_gore_on_averting_...</td>\n",
       "    </tr>\n",
       "    <tr>\n",
       "      <th>2</th>\n",
       "      <td>(Music: \"The Sound of Silence,\" Simon &amp; Garfun...</td>\n",
       "      <td>https://www.ted.com/talks/david_pogue_says_sim...</td>\n",
       "    </tr>\n",
       "    <tr>\n",
       "      <th>3</th>\n",
       "      <td>If you're here today — and I'm very happy that...</td>\n",
       "      <td>https://www.ted.com/talks/majora_carter_s_tale...</td>\n",
       "    </tr>\n",
       "    <tr>\n",
       "      <th>4</th>\n",
       "      <td>About 10 years ago, I took on the task to teac...</td>\n",
       "      <td>https://www.ted.com/talks/hans_rosling_shows_t...</td>\n",
       "    </tr>\n",
       "  </tbody>\n",
       "</table>\n",
       "</div>"
      ],
      "text/plain": [
       "                                          transcript  \\\n",
       "0  Good morning. How are you?(Laughter)It's been ...   \n",
       "1  Thank you so much, Chris. And it's truly a gre...   \n",
       "2  (Music: \"The Sound of Silence,\" Simon & Garfun...   \n",
       "3  If you're here today — and I'm very happy that...   \n",
       "4  About 10 years ago, I took on the task to teac...   \n",
       "\n",
       "                                                 url  \n",
       "0  https://www.ted.com/talks/ken_robinson_says_sc...  \n",
       "1  https://www.ted.com/talks/al_gore_on_averting_...  \n",
       "2  https://www.ted.com/talks/david_pogue_says_sim...  \n",
       "3  https://www.ted.com/talks/majora_carter_s_tale...  \n",
       "4  https://www.ted.com/talks/hans_rosling_shows_t...  "
      ]
     },
     "execution_count": 54,
     "metadata": {},
     "output_type": "execute_result"
    }
   ],
   "source": [
    "# View the top 5 rows of data - Transcripts\n",
    "TED_trans.head()"
   ]
  },
  {
   "cell_type": "code",
   "execution_count": 55,
   "metadata": {},
   "outputs": [
    {
     "data": {
      "text/html": [
       "<div>\n",
       "<style scoped>\n",
       "    .dataframe tbody tr th:only-of-type {\n",
       "        vertical-align: middle;\n",
       "    }\n",
       "\n",
       "    .dataframe tbody tr th {\n",
       "        vertical-align: top;\n",
       "    }\n",
       "\n",
       "    .dataframe thead th {\n",
       "        text-align: right;\n",
       "    }\n",
       "</style>\n",
       "<table border=\"1\" class=\"dataframe\">\n",
       "  <thead>\n",
       "    <tr style=\"text-align: right;\">\n",
       "      <th></th>\n",
       "      <th>comments</th>\n",
       "      <th>description</th>\n",
       "      <th>duration</th>\n",
       "      <th>event</th>\n",
       "      <th>film_date</th>\n",
       "      <th>languages</th>\n",
       "      <th>main_speaker</th>\n",
       "      <th>name</th>\n",
       "      <th>num_speaker</th>\n",
       "      <th>published_date</th>\n",
       "      <th>ratings</th>\n",
       "      <th>related_talks</th>\n",
       "      <th>speaker_occupation</th>\n",
       "      <th>tags</th>\n",
       "      <th>title</th>\n",
       "      <th>url</th>\n",
       "      <th>views</th>\n",
       "    </tr>\n",
       "  </thead>\n",
       "  <tbody>\n",
       "    <tr>\n",
       "      <th>2545</th>\n",
       "      <td>17</td>\n",
       "      <td>Between 2008 and 2016, the United States depor...</td>\n",
       "      <td>476</td>\n",
       "      <td>TED2017</td>\n",
       "      <td>1496707200</td>\n",
       "      <td>4</td>\n",
       "      <td>Duarte Geraldino</td>\n",
       "      <td>Duarte Geraldino: What we're missing in the de...</td>\n",
       "      <td>1</td>\n",
       "      <td>1505851216</td>\n",
       "      <td>[{'id': 3, 'name': 'Courageous', 'count': 24},...</td>\n",
       "      <td>[{'id': 2596, 'hero': 'https://pe.tedcdn.com/i...</td>\n",
       "      <td>Journalist</td>\n",
       "      <td>['TED Residency', 'United States', 'community'...</td>\n",
       "      <td>What we're missing in the debate about immigra...</td>\n",
       "      <td>https://www.ted.com/talks/duarte_geraldino_wha...</td>\n",
       "      <td>450430</td>\n",
       "    </tr>\n",
       "    <tr>\n",
       "      <th>2546</th>\n",
       "      <td>6</td>\n",
       "      <td>How can you study Mars without a spaceship? He...</td>\n",
       "      <td>290</td>\n",
       "      <td>TED2017</td>\n",
       "      <td>1492992000</td>\n",
       "      <td>3</td>\n",
       "      <td>Armando Azua-Bustos</td>\n",
       "      <td>Armando Azua-Bustos: The most Martian place on...</td>\n",
       "      <td>1</td>\n",
       "      <td>1505919737</td>\n",
       "      <td>[{'id': 22, 'name': 'Fascinating', 'count': 32...</td>\n",
       "      <td>[{'id': 2491, 'hero': 'https://pe.tedcdn.com/i...</td>\n",
       "      <td>Astrobiologist</td>\n",
       "      <td>['Mars', 'South America', 'TED Fellows', 'astr...</td>\n",
       "      <td>The most Martian place on Earth</td>\n",
       "      <td>https://www.ted.com/talks/armando_azua_bustos_...</td>\n",
       "      <td>417470</td>\n",
       "    </tr>\n",
       "    <tr>\n",
       "      <th>2547</th>\n",
       "      <td>10</td>\n",
       "      <td>Science fiction visions of the future show us ...</td>\n",
       "      <td>651</td>\n",
       "      <td>TED2017</td>\n",
       "      <td>1492992000</td>\n",
       "      <td>1</td>\n",
       "      <td>Radhika Nagpal</td>\n",
       "      <td>Radhika Nagpal: What intelligent machines can ...</td>\n",
       "      <td>1</td>\n",
       "      <td>1506006095</td>\n",
       "      <td>[{'id': 1, 'name': 'Beautiful', 'count': 14}, ...</td>\n",
       "      <td>[{'id': 2346, 'hero': 'https://pe.tedcdn.com/i...</td>\n",
       "      <td>Robotics engineer</td>\n",
       "      <td>['AI', 'ants', 'fish', 'future', 'innovation',...</td>\n",
       "      <td>What intelligent machines can learn from a sch...</td>\n",
       "      <td>https://www.ted.com/talks/radhika_nagpal_what_...</td>\n",
       "      <td>375647</td>\n",
       "    </tr>\n",
       "    <tr>\n",
       "      <th>2548</th>\n",
       "      <td>32</td>\n",
       "      <td>In an unmissable talk about race and politics ...</td>\n",
       "      <td>1100</td>\n",
       "      <td>TEDxMileHigh</td>\n",
       "      <td>1499472000</td>\n",
       "      <td>1</td>\n",
       "      <td>Theo E.J. Wilson</td>\n",
       "      <td>Theo E.J. Wilson: A black man goes undercover ...</td>\n",
       "      <td>1</td>\n",
       "      <td>1506024042</td>\n",
       "      <td>[{'id': 11, 'name': 'Longwinded', 'count': 3},...</td>\n",
       "      <td>[{'id': 2512, 'hero': 'https://pe.tedcdn.com/i...</td>\n",
       "      <td>Public intellectual</td>\n",
       "      <td>['Internet', 'TEDx', 'United States', 'communi...</td>\n",
       "      <td>A black man goes undercover in the alt-right</td>\n",
       "      <td>https://www.ted.com/talks/theo_e_j_wilson_a_bl...</td>\n",
       "      <td>419309</td>\n",
       "    </tr>\n",
       "    <tr>\n",
       "      <th>2549</th>\n",
       "      <td>8</td>\n",
       "      <td>With more than half of the world population li...</td>\n",
       "      <td>519</td>\n",
       "      <td>TED2017</td>\n",
       "      <td>1492992000</td>\n",
       "      <td>1</td>\n",
       "      <td>Karoliina Korppoo</td>\n",
       "      <td>Karoliina Korppoo: How a video game might help...</td>\n",
       "      <td>1</td>\n",
       "      <td>1506092422</td>\n",
       "      <td>[{'id': 21, 'name': 'Unconvincing', 'count': 2...</td>\n",
       "      <td>[{'id': 2682, 'hero': 'https://pe.tedcdn.com/i...</td>\n",
       "      <td>Game designer</td>\n",
       "      <td>['cities', 'design', 'future', 'infrastructure...</td>\n",
       "      <td>How a video game might help us build better ci...</td>\n",
       "      <td>https://www.ted.com/talks/karoliina_korppoo_ho...</td>\n",
       "      <td>391721</td>\n",
       "    </tr>\n",
       "  </tbody>\n",
       "</table>\n",
       "</div>"
      ],
      "text/plain": [
       "      comments                                        description  duration  \\\n",
       "2545        17  Between 2008 and 2016, the United States depor...       476   \n",
       "2546         6  How can you study Mars without a spaceship? He...       290   \n",
       "2547        10  Science fiction visions of the future show us ...       651   \n",
       "2548        32  In an unmissable talk about race and politics ...      1100   \n",
       "2549         8  With more than half of the world population li...       519   \n",
       "\n",
       "             event   film_date  languages         main_speaker  \\\n",
       "2545       TED2017  1496707200          4     Duarte Geraldino   \n",
       "2546       TED2017  1492992000          3  Armando Azua-Bustos   \n",
       "2547       TED2017  1492992000          1       Radhika Nagpal   \n",
       "2548  TEDxMileHigh  1499472000          1     Theo E.J. Wilson   \n",
       "2549       TED2017  1492992000          1    Karoliina Korppoo   \n",
       "\n",
       "                                                   name  num_speaker  \\\n",
       "2545  Duarte Geraldino: What we're missing in the de...            1   \n",
       "2546  Armando Azua-Bustos: The most Martian place on...            1   \n",
       "2547  Radhika Nagpal: What intelligent machines can ...            1   \n",
       "2548  Theo E.J. Wilson: A black man goes undercover ...            1   \n",
       "2549  Karoliina Korppoo: How a video game might help...            1   \n",
       "\n",
       "      published_date                                            ratings  \\\n",
       "2545      1505851216  [{'id': 3, 'name': 'Courageous', 'count': 24},...   \n",
       "2546      1505919737  [{'id': 22, 'name': 'Fascinating', 'count': 32...   \n",
       "2547      1506006095  [{'id': 1, 'name': 'Beautiful', 'count': 14}, ...   \n",
       "2548      1506024042  [{'id': 11, 'name': 'Longwinded', 'count': 3},...   \n",
       "2549      1506092422  [{'id': 21, 'name': 'Unconvincing', 'count': 2...   \n",
       "\n",
       "                                          related_talks   speaker_occupation  \\\n",
       "2545  [{'id': 2596, 'hero': 'https://pe.tedcdn.com/i...           Journalist   \n",
       "2546  [{'id': 2491, 'hero': 'https://pe.tedcdn.com/i...       Astrobiologist   \n",
       "2547  [{'id': 2346, 'hero': 'https://pe.tedcdn.com/i...    Robotics engineer   \n",
       "2548  [{'id': 2512, 'hero': 'https://pe.tedcdn.com/i...  Public intellectual   \n",
       "2549  [{'id': 2682, 'hero': 'https://pe.tedcdn.com/i...        Game designer   \n",
       "\n",
       "                                                   tags  \\\n",
       "2545  ['TED Residency', 'United States', 'community'...   \n",
       "2546  ['Mars', 'South America', 'TED Fellows', 'astr...   \n",
       "2547  ['AI', 'ants', 'fish', 'future', 'innovation',...   \n",
       "2548  ['Internet', 'TEDx', 'United States', 'communi...   \n",
       "2549  ['cities', 'design', 'future', 'infrastructure...   \n",
       "\n",
       "                                                  title  \\\n",
       "2545  What we're missing in the debate about immigra...   \n",
       "2546                    The most Martian place on Earth   \n",
       "2547  What intelligent machines can learn from a sch...   \n",
       "2548       A black man goes undercover in the alt-right   \n",
       "2549  How a video game might help us build better ci...   \n",
       "\n",
       "                                                    url   views  \n",
       "2545  https://www.ted.com/talks/duarte_geraldino_wha...  450430  \n",
       "2546  https://www.ted.com/talks/armando_azua_bustos_...  417470  \n",
       "2547  https://www.ted.com/talks/radhika_nagpal_what_...  375647  \n",
       "2548  https://www.ted.com/talks/theo_e_j_wilson_a_bl...  419309  \n",
       "2549  https://www.ted.com/talks/karoliina_korppoo_ho...  391721  "
      ]
     },
     "execution_count": 55,
     "metadata": {},
     "output_type": "execute_result"
    }
   ],
   "source": [
    "# View the bottom 5 rows of data - Summary\n",
    "TED_summ.tail()"
   ]
  },
  {
   "cell_type": "code",
   "execution_count": 56,
   "metadata": {},
   "outputs": [
    {
     "data": {
      "text/html": [
       "<div>\n",
       "<style scoped>\n",
       "    .dataframe tbody tr th:only-of-type {\n",
       "        vertical-align: middle;\n",
       "    }\n",
       "\n",
       "    .dataframe tbody tr th {\n",
       "        vertical-align: top;\n",
       "    }\n",
       "\n",
       "    .dataframe thead th {\n",
       "        text-align: right;\n",
       "    }\n",
       "</style>\n",
       "<table border=\"1\" class=\"dataframe\">\n",
       "  <thead>\n",
       "    <tr style=\"text-align: right;\">\n",
       "      <th></th>\n",
       "      <th>transcript</th>\n",
       "      <th>url</th>\n",
       "    </tr>\n",
       "  </thead>\n",
       "  <tbody>\n",
       "    <tr>\n",
       "      <th>2462</th>\n",
       "      <td>So, Ma was trying to explain something to me a...</td>\n",
       "      <td>https://www.ted.com/talks/duarte_geraldino_wha...</td>\n",
       "    </tr>\n",
       "    <tr>\n",
       "      <th>2463</th>\n",
       "      <td>This is a picture of a sunset on Mars taken by...</td>\n",
       "      <td>https://www.ted.com/talks/armando_azua_bustos_...</td>\n",
       "    </tr>\n",
       "    <tr>\n",
       "      <th>2464</th>\n",
       "      <td>In my early days as a graduate student, I went...</td>\n",
       "      <td>https://www.ted.com/talks/radhika_nagpal_what_...</td>\n",
       "    </tr>\n",
       "    <tr>\n",
       "      <th>2465</th>\n",
       "      <td>I took a cell phone and accidentally made myse...</td>\n",
       "      <td>https://www.ted.com/talks/theo_e_j_wilson_a_bl...</td>\n",
       "    </tr>\n",
       "    <tr>\n",
       "      <th>2466</th>\n",
       "      <td>We humans are becoming an urban species, so ci...</td>\n",
       "      <td>https://www.ted.com/talks/karoliina_korppoo_ho...</td>\n",
       "    </tr>\n",
       "  </tbody>\n",
       "</table>\n",
       "</div>"
      ],
      "text/plain": [
       "                                             transcript  \\\n",
       "2462  So, Ma was trying to explain something to me a...   \n",
       "2463  This is a picture of a sunset on Mars taken by...   \n",
       "2464  In my early days as a graduate student, I went...   \n",
       "2465  I took a cell phone and accidentally made myse...   \n",
       "2466  We humans are becoming an urban species, so ci...   \n",
       "\n",
       "                                                    url  \n",
       "2462  https://www.ted.com/talks/duarte_geraldino_wha...  \n",
       "2463  https://www.ted.com/talks/armando_azua_bustos_...  \n",
       "2464  https://www.ted.com/talks/radhika_nagpal_what_...  \n",
       "2465  https://www.ted.com/talks/theo_e_j_wilson_a_bl...  \n",
       "2466  https://www.ted.com/talks/karoliina_korppoo_ho...  "
      ]
     },
     "execution_count": 56,
     "metadata": {},
     "output_type": "execute_result"
    }
   ],
   "source": [
    "# View the bottom 5 rows of data - Summary\n",
    "TED_trans.tail()"
   ]
  },
  {
   "cell_type": "code",
   "execution_count": 57,
   "metadata": {},
   "outputs": [
    {
     "name": "stdout",
     "output_type": "stream",
     "text": [
      "DataFrame Shapes:\n",
      "\n",
      "Summary Shape: (2550, 17)\n",
      "Transcripts Shape: (2467, 2)\n"
     ]
    }
   ],
   "source": [
    "# Inspect the overall shape of the data (rows/columns)\n",
    "print(\"DataFrame Shapes:\\n\")\n",
    "print(\"Summary Shape: {}\".format(TED_summ.shape))\n",
    "print(\"Transcripts Shape: {}\".format(TED_trans.shape))"
   ]
  },
  {
   "cell_type": "markdown",
   "metadata": {},
   "source": [
    "- The summary file has 2,550 rows of data and 17 columns\n",
    "- The Transcripts file has slightly less rows (2,467) and only 2 columns\n",
    "\n",
    "**Both DataFrames have a URL column**, which can likely serve as the same column for merging both datasets into one overall DataFrame.  **83 rows of data will be lost** due to the Transcripts DataFrame having a lower overall row count."
   ]
  },
  {
   "cell_type": "code",
   "execution_count": 58,
   "metadata": {},
   "outputs": [
    {
     "name": "stdout",
     "output_type": "stream",
     "text": [
      "Combined TED Summary Shape: (2467, 18)\n"
     ]
    }
   ],
   "source": [
    "# Use Pandas merge function to combine both datasets on the shared column, URL\n",
    "TED_combined = pd.merge(TED_summ, TED_trans, how = 'inner', on = 'url') # Use inner to only keep records that match both datasets\n",
    "print(\"Combined TED Summary Shape: {}\".format(TED_combined.shape))"
   ]
  },
  {
   "cell_type": "markdown",
   "metadata": {},
   "source": [
    "We now have 2,467 combined rows and 18 columns in the combined dataset."
   ]
  },
  {
   "cell_type": "code",
   "execution_count": 59,
   "metadata": {
    "scrolled": false
   },
   "outputs": [
    {
     "name": "stdout",
     "output_type": "stream",
     "text": [
      "<class 'pandas.core.frame.DataFrame'>\n",
      "Int64Index: 2467 entries, 0 to 2466\n",
      "Data columns (total 18 columns):\n",
      " #   Column              Non-Null Count  Dtype \n",
      "---  ------              --------------  ----- \n",
      " 0   comments            2467 non-null   int64 \n",
      " 1   description         2467 non-null   object\n",
      " 2   duration            2467 non-null   int64 \n",
      " 3   event               2467 non-null   object\n",
      " 4   film_date           2467 non-null   int64 \n",
      " 5   languages           2467 non-null   int64 \n",
      " 6   main_speaker        2467 non-null   object\n",
      " 7   name                2467 non-null   object\n",
      " 8   num_speaker         2467 non-null   int64 \n",
      " 9   published_date      2467 non-null   int64 \n",
      " 10  ratings             2467 non-null   object\n",
      " 11  related_talks       2467 non-null   object\n",
      " 12  speaker_occupation  2461 non-null   object\n",
      " 13  tags                2467 non-null   object\n",
      " 14  title               2467 non-null   object\n",
      " 15  url                 2467 non-null   object\n",
      " 16  views               2467 non-null   int64 \n",
      " 17  transcript          2467 non-null   object\n",
      "dtypes: int64(7), object(11)\n",
      "memory usage: 366.2+ KB\n"
     ]
    }
   ],
   "source": [
    "# Examine the combined dataset for missing values and column data types\n",
    "TED_combined.info()"
   ]
  },
  {
   "cell_type": "markdown",
   "metadata": {},
   "source": [
    "There are **no null values** out of the 2,467 entries, however, **Speaker Occupation appears to be missing 6 values** which could be NAs and will require further analysis.\n",
    "\n",
    "The variables with Object datatypes can be converted to categorical values, saving space and improving EDA presentation."
   ]
  },
  {
   "cell_type": "markdown",
   "metadata": {},
   "source": [
    "### Convert Date Colums to DateTime then Object Data Type to Category"
   ]
  },
  {
   "cell_type": "code",
   "execution_count": 60,
   "metadata": {
    "scrolled": false
   },
   "outputs": [],
   "source": [
    "# Update Category datatype, for data columns, to DateTime - initial dataset includes seconds so set unit = 's'\n",
    "TED_combined['film_date'] = pd.to_datetime(TED_combined['film_date'], unit = 's')\n",
    "TED_combined['published_date'] = pd.to_datetime(TED_combined['film_date'], unit = 's')"
   ]
  },
  {
   "cell_type": "code",
   "execution_count": 61,
   "metadata": {},
   "outputs": [],
   "source": [
    "# Update Object datatype to Category\n",
    "for columns in TED_combined:\n",
    "    if TED_combined[columns].dtype == 'object':\n",
    "        TED_combined[columns] = TED_combined[columns].astype('category')"
   ]
  },
  {
   "cell_type": "code",
   "execution_count": 62,
   "metadata": {},
   "outputs": [
    {
     "name": "stdout",
     "output_type": "stream",
     "text": [
      "<class 'pandas.core.frame.DataFrame'>\n",
      "Int64Index: 2467 entries, 0 to 2466\n",
      "Data columns (total 18 columns):\n",
      " #   Column              Non-Null Count  Dtype         \n",
      "---  ------              --------------  -----         \n",
      " 0   comments            2467 non-null   int64         \n",
      " 1   description         2467 non-null   category      \n",
      " 2   duration            2467 non-null   int64         \n",
      " 3   event               2467 non-null   category      \n",
      " 4   film_date           2467 non-null   datetime64[ns]\n",
      " 5   languages           2467 non-null   int64         \n",
      " 6   main_speaker        2467 non-null   category      \n",
      " 7   name                2467 non-null   category      \n",
      " 8   num_speaker         2467 non-null   int64         \n",
      " 9   published_date      2467 non-null   datetime64[ns]\n",
      " 10  ratings             2467 non-null   category      \n",
      " 11  related_talks       2467 non-null   category      \n",
      " 12  speaker_occupation  2461 non-null   category      \n",
      " 13  tags                2467 non-null   category      \n",
      " 14  title               2467 non-null   category      \n",
      " 15  url                 2467 non-null   category      \n",
      " 16  views               2467 non-null   int64         \n",
      " 17  transcript          2467 non-null   category      \n",
      "dtypes: category(11), datetime64[ns](2), int64(5)\n",
      "memory usage: 1.1 MB\n"
     ]
    }
   ],
   "source": [
    "# Reexamine DataFrame ensuring all datatypes previously Object are now Categorical\n",
    "TED_combined.info()"
   ]
  },
  {
   "cell_type": "markdown",
   "metadata": {},
   "source": [
    "- All columns correctly reflect **Category if previously an Object datatype, excluding Film Date and Published Date** which are set to datetime datatypes."
   ]
  },
  {
   "cell_type": "code",
   "execution_count": 63,
   "metadata": {},
   "outputs": [
    {
     "data": {
      "text/plain": [
       "comments              0\n",
       "description           0\n",
       "duration              0\n",
       "event                 0\n",
       "film_date             0\n",
       "languages             0\n",
       "main_speaker          0\n",
       "name                  0\n",
       "num_speaker           0\n",
       "published_date        0\n",
       "ratings               0\n",
       "related_talks         0\n",
       "speaker_occupation    6\n",
       "tags                  0\n",
       "title                 0\n",
       "url                   0\n",
       "views                 0\n",
       "transcript            0\n",
       "dtype: int64"
      ]
     },
     "execution_count": 63,
     "metadata": {},
     "output_type": "execute_result"
    }
   ],
   "source": [
    "# Inspect total count of null values in dataset\n",
    "TED_combined.isnull().sum()"
   ]
  },
  {
   "cell_type": "code",
   "execution_count": 64,
   "metadata": {},
   "outputs": [
    {
     "data": {
      "text/plain": [
       "comments              0\n",
       "description           0\n",
       "duration              0\n",
       "event                 0\n",
       "film_date             0\n",
       "languages             0\n",
       "main_speaker          0\n",
       "name                  0\n",
       "num_speaker           0\n",
       "published_date        0\n",
       "ratings               0\n",
       "related_talks         0\n",
       "speaker_occupation    6\n",
       "tags                  0\n",
       "title                 0\n",
       "url                   0\n",
       "views                 0\n",
       "transcript            0\n",
       "dtype: int64"
      ]
     },
     "execution_count": 64,
     "metadata": {},
     "output_type": "execute_result"
    }
   ],
   "source": [
    "# Inspect total count of NA (NaN) values in dataset\n",
    "TED_combined.isna().sum()"
   ]
  },
  {
   "cell_type": "markdown",
   "metadata": {},
   "source": [
    "Due to the fact that there are **only 6 speakers with missing occupations**, all of whom can likely be searched online for generic occupations, these entries can be **manually encoded**."
   ]
  },
  {
   "cell_type": "code",
   "execution_count": 65,
   "metadata": {},
   "outputs": [
    {
     "data": {
      "text/plain": [
       "['Sonaar Luthra',\n",
       " 'Rick Falkvinge',\n",
       " 'Gary Kovacs',\n",
       " 'Ryan Holladay',\n",
       " 'Brian Dettmer',\n",
       " 'Boniface Mwangi']"
      ]
     },
     "execution_count": 65,
     "metadata": {},
     "output_type": "execute_result"
    }
   ],
   "source": [
    "TED_combined['main_speaker'][TED_combined['speaker_occupation'].isna() == True].values.tolist()"
   ]
  },
  {
   "cell_type": "code",
   "execution_count": 66,
   "metadata": {},
   "outputs": [],
   "source": [
    "# Create a list of speakers with missing occupations\n",
    "speakers = TED_combined['main_speaker'][TED_combined['speaker_occupation'].isna() == True].values.tolist()\n",
    "\n",
    "# create an, ordered, input list for respective speaker occupations (from online search)\n",
    "occupations_input = ['Designer', 'Entrepreneur', 'CEO', 'Inventor', 'Artist', 'Journalist']\n",
    "\n",
    "# for loop to update each speaker with respective occupation that was missig\n",
    "for speaker in speakers:\n",
    "    for occupation in occupations_input:\n",
    "        TED_combined['speaker_occupation'][TED_combined['main_speaker'] == speaker] = occupation"
   ]
  },
  {
   "cell_type": "code",
   "execution_count": 67,
   "metadata": {},
   "outputs": [
    {
     "data": {
      "text/plain": [
       "comments              0\n",
       "description           0\n",
       "duration              0\n",
       "event                 0\n",
       "film_date             0\n",
       "languages             0\n",
       "main_speaker          0\n",
       "name                  0\n",
       "num_speaker           0\n",
       "published_date        0\n",
       "ratings               0\n",
       "related_talks         0\n",
       "speaker_occupation    0\n",
       "tags                  0\n",
       "title                 0\n",
       "url                   0\n",
       "views                 0\n",
       "transcript            0\n",
       "dtype: int64"
      ]
     },
     "execution_count": 67,
     "metadata": {},
     "output_type": "execute_result"
    }
   ],
   "source": [
    "# Recheck the count of NAs to ensure above loop removed all\n",
    "TED_combined.isna().sum()"
   ]
  },
  {
   "cell_type": "markdown",
   "metadata": {},
   "source": [
    "There are no missing values in the Speaker Occupation column."
   ]
  },
  {
   "cell_type": "code",
   "execution_count": 68,
   "metadata": {},
   "outputs": [
    {
     "data": {
      "text/plain": [
       "comments               555\n",
       "description           2464\n",
       "duration              1059\n",
       "event                  320\n",
       "film_date              690\n",
       "languages               65\n",
       "main_speaker          2088\n",
       "name                  2464\n",
       "num_speaker              5\n",
       "published_date         690\n",
       "ratings               2464\n",
       "related_talks         2464\n",
       "speaker_occupation    1421\n",
       "tags                  2447\n",
       "title                 2464\n",
       "url                   2464\n",
       "views                 2464\n",
       "transcript            2464\n",
       "dtype: int64"
      ]
     },
     "execution_count": 68,
     "metadata": {},
     "output_type": "execute_result"
    }
   ],
   "source": [
    "# Inspect total unique counts by column\n",
    "\n",
    "TED_combined.nunique()"
   ]
  },
  {
   "cell_type": "code",
   "execution_count": 69,
   "metadata": {},
   "outputs": [
    {
     "data": {
      "text/plain": [
       "1    2412\n",
       "2      46\n",
       "3       5\n",
       "4       3\n",
       "5       1\n",
       "Name: num_speaker, dtype: int64"
      ]
     },
     "execution_count": 69,
     "metadata": {},
     "output_type": "execute_result"
    }
   ],
   "source": [
    "# Inspect Number of Speakers (per talk) column (only column with low unique values count)\n",
    "TED_combined['num_speaker'].value_counts()"
   ]
  },
  {
   "cell_type": "markdown",
   "metadata": {},
   "source": [
    "**Observations**\n",
    "- 320 unique events listed (e.g. TED2017)\n",
    "- There 65 unique languages and 555 unique comments tracked indicate **unique counts of languages/comments per event (e.g. 4 different languages and 10 comments for a given TED talk)**\n",
    "- As expected, the majority of speakers per talk is 1 (2,412), however there were 46 cases of 2 speakers presenting"
   ]
  },
  {
   "cell_type": "code",
   "execution_count": 70,
   "metadata": {},
   "outputs": [
    {
     "data": {
      "text/html": [
       "<div>\n",
       "<style scoped>\n",
       "    .dataframe tbody tr th:only-of-type {\n",
       "        vertical-align: middle;\n",
       "    }\n",
       "\n",
       "    .dataframe tbody tr th {\n",
       "        vertical-align: top;\n",
       "    }\n",
       "\n",
       "    .dataframe thead th {\n",
       "        text-align: right;\n",
       "    }\n",
       "</style>\n",
       "<table border=\"1\" class=\"dataframe\">\n",
       "  <thead>\n",
       "    <tr style=\"text-align: right;\">\n",
       "      <th></th>\n",
       "      <th>count</th>\n",
       "      <th>unique</th>\n",
       "      <th>top</th>\n",
       "      <th>freq</th>\n",
       "      <th>first</th>\n",
       "      <th>last</th>\n",
       "      <th>mean</th>\n",
       "      <th>std</th>\n",
       "      <th>min</th>\n",
       "      <th>25%</th>\n",
       "      <th>50%</th>\n",
       "      <th>75%</th>\n",
       "      <th>max</th>\n",
       "    </tr>\n",
       "  </thead>\n",
       "  <tbody>\n",
       "    <tr>\n",
       "      <th>comments</th>\n",
       "      <td>2467</td>\n",
       "      <td>NaN</td>\n",
       "      <td>NaN</td>\n",
       "      <td>NaN</td>\n",
       "      <td>NaT</td>\n",
       "      <td>NaT</td>\n",
       "      <td>192.571</td>\n",
       "      <td>284.83</td>\n",
       "      <td>2</td>\n",
       "      <td>63</td>\n",
       "      <td>117</td>\n",
       "      <td>222.5</td>\n",
       "      <td>6404</td>\n",
       "    </tr>\n",
       "    <tr>\n",
       "      <th>description</th>\n",
       "      <td>2467</td>\n",
       "      <td>2464</td>\n",
       "      <td>Shame is an unspoken epidemic, the secret behi...</td>\n",
       "      <td>2</td>\n",
       "      <td>NaT</td>\n",
       "      <td>NaT</td>\n",
       "      <td>NaN</td>\n",
       "      <td>NaN</td>\n",
       "      <td>NaN</td>\n",
       "      <td>NaN</td>\n",
       "      <td>NaN</td>\n",
       "      <td>NaN</td>\n",
       "      <td>NaN</td>\n",
       "    </tr>\n",
       "    <tr>\n",
       "      <th>duration</th>\n",
       "      <td>2467</td>\n",
       "      <td>NaN</td>\n",
       "      <td>NaN</td>\n",
       "      <td>NaN</td>\n",
       "      <td>NaT</td>\n",
       "      <td>NaT</td>\n",
       "      <td>821.76</td>\n",
       "      <td>334.09</td>\n",
       "      <td>135</td>\n",
       "      <td>582</td>\n",
       "      <td>852</td>\n",
       "      <td>1047</td>\n",
       "      <td>3608</td>\n",
       "    </tr>\n",
       "    <tr>\n",
       "      <th>event</th>\n",
       "      <td>2467</td>\n",
       "      <td>320</td>\n",
       "      <td>TED2014</td>\n",
       "      <td>84</td>\n",
       "      <td>NaT</td>\n",
       "      <td>NaT</td>\n",
       "      <td>NaN</td>\n",
       "      <td>NaN</td>\n",
       "      <td>NaN</td>\n",
       "      <td>NaN</td>\n",
       "      <td>NaN</td>\n",
       "      <td>NaN</td>\n",
       "      <td>NaN</td>\n",
       "    </tr>\n",
       "    <tr>\n",
       "      <th>film_date</th>\n",
       "      <td>2467</td>\n",
       "      <td>690</td>\n",
       "      <td>2017-04-24 00:00:00</td>\n",
       "      <td>64</td>\n",
       "      <td>1984-02-02</td>\n",
       "      <td>2017-08-27</td>\n",
       "      <td>NaN</td>\n",
       "      <td>NaN</td>\n",
       "      <td>NaN</td>\n",
       "      <td>NaN</td>\n",
       "      <td>NaN</td>\n",
       "      <td>NaN</td>\n",
       "      <td>NaN</td>\n",
       "    </tr>\n",
       "    <tr>\n",
       "      <th>languages</th>\n",
       "      <td>2467</td>\n",
       "      <td>NaN</td>\n",
       "      <td>NaN</td>\n",
       "      <td>NaN</td>\n",
       "      <td>NaT</td>\n",
       "      <td>NaT</td>\n",
       "      <td>28.2914</td>\n",
       "      <td>8.22976</td>\n",
       "      <td>1</td>\n",
       "      <td>23</td>\n",
       "      <td>28</td>\n",
       "      <td>33</td>\n",
       "      <td>72</td>\n",
       "    </tr>\n",
       "    <tr>\n",
       "      <th>main_speaker</th>\n",
       "      <td>2467</td>\n",
       "      <td>2088</td>\n",
       "      <td>Hans Rosling</td>\n",
       "      <td>9</td>\n",
       "      <td>NaT</td>\n",
       "      <td>NaT</td>\n",
       "      <td>NaN</td>\n",
       "      <td>NaN</td>\n",
       "      <td>NaN</td>\n",
       "      <td>NaN</td>\n",
       "      <td>NaN</td>\n",
       "      <td>NaN</td>\n",
       "      <td>NaN</td>\n",
       "    </tr>\n",
       "    <tr>\n",
       "      <th>name</th>\n",
       "      <td>2467</td>\n",
       "      <td>2464</td>\n",
       "      <td>Jonathan Haidt: Religion, evolution, and the e...</td>\n",
       "      <td>2</td>\n",
       "      <td>NaT</td>\n",
       "      <td>NaT</td>\n",
       "      <td>NaN</td>\n",
       "      <td>NaN</td>\n",
       "      <td>NaN</td>\n",
       "      <td>NaN</td>\n",
       "      <td>NaN</td>\n",
       "      <td>NaN</td>\n",
       "      <td>NaN</td>\n",
       "    </tr>\n",
       "    <tr>\n",
       "      <th>num_speaker</th>\n",
       "      <td>2467</td>\n",
       "      <td>NaN</td>\n",
       "      <td>NaN</td>\n",
       "      <td>NaN</td>\n",
       "      <td>NaT</td>\n",
       "      <td>NaT</td>\n",
       "      <td>1.02797</td>\n",
       "      <td>0.208371</td>\n",
       "      <td>1</td>\n",
       "      <td>1</td>\n",
       "      <td>1</td>\n",
       "      <td>1</td>\n",
       "      <td>5</td>\n",
       "    </tr>\n",
       "    <tr>\n",
       "      <th>published_date</th>\n",
       "      <td>2467</td>\n",
       "      <td>690</td>\n",
       "      <td>2017-04-24 00:00:00</td>\n",
       "      <td>64</td>\n",
       "      <td>1984-02-02</td>\n",
       "      <td>2017-08-27</td>\n",
       "      <td>NaN</td>\n",
       "      <td>NaN</td>\n",
       "      <td>NaN</td>\n",
       "      <td>NaN</td>\n",
       "      <td>NaN</td>\n",
       "      <td>NaN</td>\n",
       "      <td>NaN</td>\n",
       "    </tr>\n",
       "    <tr>\n",
       "      <th>ratings</th>\n",
       "      <td>2467</td>\n",
       "      <td>2464</td>\n",
       "      <td>[{'id': 9, 'name': 'Ingenious', 'count': 577},...</td>\n",
       "      <td>2</td>\n",
       "      <td>NaT</td>\n",
       "      <td>NaT</td>\n",
       "      <td>NaN</td>\n",
       "      <td>NaN</td>\n",
       "      <td>NaN</td>\n",
       "      <td>NaN</td>\n",
       "      <td>NaN</td>\n",
       "      <td>NaN</td>\n",
       "      <td>NaN</td>\n",
       "    </tr>\n",
       "    <tr>\n",
       "      <th>related_talks</th>\n",
       "      <td>2467</td>\n",
       "      <td>2464</td>\n",
       "      <td>[{'id': 1327, 'hero': 'https://pe.tedcdn.com/i...</td>\n",
       "      <td>2</td>\n",
       "      <td>NaT</td>\n",
       "      <td>NaT</td>\n",
       "      <td>NaN</td>\n",
       "      <td>NaN</td>\n",
       "      <td>NaN</td>\n",
       "      <td>NaN</td>\n",
       "      <td>NaN</td>\n",
       "      <td>NaN</td>\n",
       "      <td>NaN</td>\n",
       "    </tr>\n",
       "    <tr>\n",
       "      <th>speaker_occupation</th>\n",
       "      <td>2467</td>\n",
       "      <td>1421</td>\n",
       "      <td>Writer</td>\n",
       "      <td>45</td>\n",
       "      <td>NaT</td>\n",
       "      <td>NaT</td>\n",
       "      <td>NaN</td>\n",
       "      <td>NaN</td>\n",
       "      <td>NaN</td>\n",
       "      <td>NaN</td>\n",
       "      <td>NaN</td>\n",
       "      <td>NaN</td>\n",
       "      <td>NaN</td>\n",
       "    </tr>\n",
       "    <tr>\n",
       "      <th>tags</th>\n",
       "      <td>2467</td>\n",
       "      <td>2447</td>\n",
       "      <td>['entertainment', 'live music', 'music', 'perf...</td>\n",
       "      <td>3</td>\n",
       "      <td>NaT</td>\n",
       "      <td>NaT</td>\n",
       "      <td>NaN</td>\n",
       "      <td>NaN</td>\n",
       "      <td>NaN</td>\n",
       "      <td>NaN</td>\n",
       "      <td>NaN</td>\n",
       "      <td>NaN</td>\n",
       "      <td>NaN</td>\n",
       "    </tr>\n",
       "    <tr>\n",
       "      <th>title</th>\n",
       "      <td>2467</td>\n",
       "      <td>2464</td>\n",
       "      <td>Listening to shame</td>\n",
       "      <td>2</td>\n",
       "      <td>NaT</td>\n",
       "      <td>NaT</td>\n",
       "      <td>NaN</td>\n",
       "      <td>NaN</td>\n",
       "      <td>NaN</td>\n",
       "      <td>NaN</td>\n",
       "      <td>NaN</td>\n",
       "      <td>NaN</td>\n",
       "      <td>NaN</td>\n",
       "    </tr>\n",
       "    <tr>\n",
       "      <th>url</th>\n",
       "      <td>2467</td>\n",
       "      <td>2464</td>\n",
       "      <td>https://www.ted.com/talks/rob_reid_the_8_billi...</td>\n",
       "      <td>2</td>\n",
       "      <td>NaT</td>\n",
       "      <td>NaT</td>\n",
       "      <td>NaN</td>\n",
       "      <td>NaN</td>\n",
       "      <td>NaN</td>\n",
       "      <td>NaN</td>\n",
       "      <td>NaN</td>\n",
       "      <td>NaN</td>\n",
       "      <td>NaN</td>\n",
       "    </tr>\n",
       "    <tr>\n",
       "      <th>views</th>\n",
       "      <td>2467</td>\n",
       "      <td>NaN</td>\n",
       "      <td>NaN</td>\n",
       "      <td>NaN</td>\n",
       "      <td>NaT</td>\n",
       "      <td>NaT</td>\n",
       "      <td>1.7403e+06</td>\n",
       "      <td>2.52709e+06</td>\n",
       "      <td>155895</td>\n",
       "      <td>787578</td>\n",
       "      <td>1.14909e+06</td>\n",
       "      <td>1.73626e+06</td>\n",
       "      <td>4.72271e+07</td>\n",
       "    </tr>\n",
       "    <tr>\n",
       "      <th>transcript</th>\n",
       "      <td>2467</td>\n",
       "      <td>2464</td>\n",
       "      <td>I'm going to tell you a little bit about my TE...</td>\n",
       "      <td>2</td>\n",
       "      <td>NaT</td>\n",
       "      <td>NaT</td>\n",
       "      <td>NaN</td>\n",
       "      <td>NaN</td>\n",
       "      <td>NaN</td>\n",
       "      <td>NaN</td>\n",
       "      <td>NaN</td>\n",
       "      <td>NaN</td>\n",
       "      <td>NaN</td>\n",
       "    </tr>\n",
       "  </tbody>\n",
       "</table>\n",
       "</div>"
      ],
      "text/plain": [
       "                   count unique  \\\n",
       "comments            2467    NaN   \n",
       "description         2467   2464   \n",
       "duration            2467    NaN   \n",
       "event               2467    320   \n",
       "film_date           2467    690   \n",
       "languages           2467    NaN   \n",
       "main_speaker        2467   2088   \n",
       "name                2467   2464   \n",
       "num_speaker         2467    NaN   \n",
       "published_date      2467    690   \n",
       "ratings             2467   2464   \n",
       "related_talks       2467   2464   \n",
       "speaker_occupation  2467   1421   \n",
       "tags                2467   2447   \n",
       "title               2467   2464   \n",
       "url                 2467   2464   \n",
       "views               2467    NaN   \n",
       "transcript          2467   2464   \n",
       "\n",
       "                                                                  top freq  \\\n",
       "comments                                                          NaN  NaN   \n",
       "description         Shame is an unspoken epidemic, the secret behi...    2   \n",
       "duration                                                          NaN  NaN   \n",
       "event                                                         TED2014   84   \n",
       "film_date                                         2017-04-24 00:00:00   64   \n",
       "languages                                                         NaN  NaN   \n",
       "main_speaker                                             Hans Rosling    9   \n",
       "name                Jonathan Haidt: Religion, evolution, and the e...    2   \n",
       "num_speaker                                                       NaN  NaN   \n",
       "published_date                                    2017-04-24 00:00:00   64   \n",
       "ratings             [{'id': 9, 'name': 'Ingenious', 'count': 577},...    2   \n",
       "related_talks       [{'id': 1327, 'hero': 'https://pe.tedcdn.com/i...    2   \n",
       "speaker_occupation                                             Writer   45   \n",
       "tags                ['entertainment', 'live music', 'music', 'perf...    3   \n",
       "title                                              Listening to shame    2   \n",
       "url                 https://www.ted.com/talks/rob_reid_the_8_billi...    2   \n",
       "views                                                             NaN  NaN   \n",
       "transcript          I'm going to tell you a little bit about my TE...    2   \n",
       "\n",
       "                        first       last        mean          std     min  \\\n",
       "comments                  NaT        NaT     192.571       284.83       2   \n",
       "description               NaT        NaT         NaN          NaN     NaN   \n",
       "duration                  NaT        NaT      821.76       334.09     135   \n",
       "event                     NaT        NaT         NaN          NaN     NaN   \n",
       "film_date          1984-02-02 2017-08-27         NaN          NaN     NaN   \n",
       "languages                 NaT        NaT     28.2914      8.22976       1   \n",
       "main_speaker              NaT        NaT         NaN          NaN     NaN   \n",
       "name                      NaT        NaT         NaN          NaN     NaN   \n",
       "num_speaker               NaT        NaT     1.02797     0.208371       1   \n",
       "published_date     1984-02-02 2017-08-27         NaN          NaN     NaN   \n",
       "ratings                   NaT        NaT         NaN          NaN     NaN   \n",
       "related_talks             NaT        NaT         NaN          NaN     NaN   \n",
       "speaker_occupation        NaT        NaT         NaN          NaN     NaN   \n",
       "tags                      NaT        NaT         NaN          NaN     NaN   \n",
       "title                     NaT        NaT         NaN          NaN     NaN   \n",
       "url                       NaT        NaT         NaN          NaN     NaN   \n",
       "views                     NaT        NaT  1.7403e+06  2.52709e+06  155895   \n",
       "transcript                NaT        NaT         NaN          NaN     NaN   \n",
       "\n",
       "                       25%          50%          75%          max  \n",
       "comments                63          117        222.5         6404  \n",
       "description            NaN          NaN          NaN          NaN  \n",
       "duration               582          852         1047         3608  \n",
       "event                  NaN          NaN          NaN          NaN  \n",
       "film_date              NaN          NaN          NaN          NaN  \n",
       "languages               23           28           33           72  \n",
       "main_speaker           NaN          NaN          NaN          NaN  \n",
       "name                   NaN          NaN          NaN          NaN  \n",
       "num_speaker              1            1            1            5  \n",
       "published_date         NaN          NaN          NaN          NaN  \n",
       "ratings                NaN          NaN          NaN          NaN  \n",
       "related_talks          NaN          NaN          NaN          NaN  \n",
       "speaker_occupation     NaN          NaN          NaN          NaN  \n",
       "tags                   NaN          NaN          NaN          NaN  \n",
       "title                  NaN          NaN          NaN          NaN  \n",
       "url                    NaN          NaN          NaN          NaN  \n",
       "views               787578  1.14909e+06  1.73626e+06  4.72271e+07  \n",
       "transcript             NaN          NaN          NaN          NaN  "
      ]
     },
     "execution_count": 70,
     "metadata": {},
     "output_type": "execute_result"
    }
   ],
   "source": [
    "# Run descriptive statistics summary for all variables - including categorical\n",
    "TED_combined.describe(include = 'all').T"
   ]
  },
  {
   "cell_type": "markdown",
   "metadata": {},
   "source": [
    "**Initial Sample Observations**\n",
    "- **Hans Rosling** was the most frequent speaker (9 presentations)\n",
    "- The most common speaker occupation is Writer (45 occurrences)\n",
    "- Thbe most frequent date for filming, and subsequently publishing, was **4/24/2017 (64 occurrences)**\n",
    "- The most frequest event (year) is **TED2014 (84 occurrences)**"
   ]
  },
  {
   "cell_type": "markdown",
   "metadata": {},
   "source": [
    "### Top 5 Events, Speakers, and Occupations"
   ]
  },
  {
   "cell_type": "code",
   "execution_count": 71,
   "metadata": {},
   "outputs": [
    {
     "data": {
      "text/plain": [
       "TED2014    84\n",
       "TED2009    81\n",
       "TED2013    77\n",
       "TED2016    75\n",
       "TED2015    75\n",
       "Name: event, dtype: int64"
      ]
     },
     "execution_count": 71,
     "metadata": {},
     "output_type": "execute_result"
    }
   ],
   "source": [
    "# Inspect the top 5 speaker occupations\n",
    "TED_combined['event'].value_counts().head(5)"
   ]
  },
  {
   "cell_type": "code",
   "execution_count": 72,
   "metadata": {},
   "outputs": [
    {
     "data": {
      "text/plain": [
       "Hans Rosling      9\n",
       "Juan Enriquez     7\n",
       "Marco Tempest     6\n",
       "Rives             6\n",
       "Jonathan Haidt    5\n",
       "Name: main_speaker, dtype: int64"
      ]
     },
     "execution_count": 72,
     "metadata": {},
     "output_type": "execute_result"
    }
   ],
   "source": [
    "# Inspect the top 5 main speakers\n",
    "TED_combined['main_speaker'].value_counts().head(5)"
   ]
  },
  {
   "cell_type": "code",
   "execution_count": 73,
   "metadata": {},
   "outputs": [
    {
     "data": {
      "text/plain": [
       "Writer          45\n",
       "Journalist      38\n",
       "Artist          34\n",
       "Designer        34\n",
       "Entrepreneur    30\n",
       "Name: speaker_occupation, dtype: int64"
      ]
     },
     "execution_count": 73,
     "metadata": {},
     "output_type": "execute_result"
    }
   ],
   "source": [
    "# Inspect the top 5 speaker occupations\n",
    "TED_combined['speaker_occupation'].value_counts().head(5)"
   ]
  },
  {
   "cell_type": "markdown",
   "metadata": {},
   "source": [
    "### Top 10 Talks of All Time"
   ]
  },
  {
   "cell_type": "code",
   "execution_count": 74,
   "metadata": {},
   "outputs": [
    {
     "data": {
      "text/html": [
       "<div>\n",
       "<style scoped>\n",
       "    .dataframe tbody tr th:only-of-type {\n",
       "        vertical-align: middle;\n",
       "    }\n",
       "\n",
       "    .dataframe tbody tr th {\n",
       "        vertical-align: top;\n",
       "    }\n",
       "\n",
       "    .dataframe thead th {\n",
       "        text-align: right;\n",
       "    }\n",
       "</style>\n",
       "<table border=\"1\" class=\"dataframe\">\n",
       "  <thead>\n",
       "    <tr style=\"text-align: right;\">\n",
       "      <th></th>\n",
       "      <th>main_speaker</th>\n",
       "      <th>title</th>\n",
       "      <th>views</th>\n",
       "    </tr>\n",
       "  </thead>\n",
       "  <tbody>\n",
       "    <tr>\n",
       "      <th>0</th>\n",
       "      <td>Ken Robinson</td>\n",
       "      <td>Do schools kill creativity?</td>\n",
       "      <td>47227110</td>\n",
       "    </tr>\n",
       "    <tr>\n",
       "      <th>1268</th>\n",
       "      <td>Amy Cuddy</td>\n",
       "      <td>Your body language may shape who you are</td>\n",
       "      <td>43155405</td>\n",
       "    </tr>\n",
       "    <tr>\n",
       "      <th>649</th>\n",
       "      <td>Simon Sinek</td>\n",
       "      <td>How great leaders inspire action</td>\n",
       "      <td>34309432</td>\n",
       "    </tr>\n",
       "    <tr>\n",
       "      <th>800</th>\n",
       "      <td>Brené Brown</td>\n",
       "      <td>The power of vulnerability</td>\n",
       "      <td>31168150</td>\n",
       "    </tr>\n",
       "    <tr>\n",
       "      <th>444</th>\n",
       "      <td>Mary Roach</td>\n",
       "      <td>10 things you didn't know about orgasm</td>\n",
       "      <td>22270883</td>\n",
       "    </tr>\n",
       "    <tr>\n",
       "      <th>1695</th>\n",
       "      <td>Julian Treasure</td>\n",
       "      <td>How to speak so that people want to listen</td>\n",
       "      <td>21594632</td>\n",
       "    </tr>\n",
       "    <tr>\n",
       "      <th>198</th>\n",
       "      <td>Jill Bolte Taylor</td>\n",
       "      <td>My stroke of insight</td>\n",
       "      <td>21190883</td>\n",
       "    </tr>\n",
       "    <tr>\n",
       "      <th>5</th>\n",
       "      <td>Tony Robbins</td>\n",
       "      <td>Why we do what we do</td>\n",
       "      <td>20685401</td>\n",
       "    </tr>\n",
       "    <tr>\n",
       "      <th>2033</th>\n",
       "      <td>James Veitch</td>\n",
       "      <td>This is what happens when you reply to spam email</td>\n",
       "      <td>20475972</td>\n",
       "    </tr>\n",
       "    <tr>\n",
       "      <th>1338</th>\n",
       "      <td>Cameron Russell</td>\n",
       "      <td>Looks aren't everything. Believe me, I'm a model.</td>\n",
       "      <td>19787465</td>\n",
       "    </tr>\n",
       "  </tbody>\n",
       "</table>\n",
       "</div>"
      ],
      "text/plain": [
       "           main_speaker                                              title  \\\n",
       "0          Ken Robinson                        Do schools kill creativity?   \n",
       "1268          Amy Cuddy           Your body language may shape who you are   \n",
       "649         Simon Sinek                   How great leaders inspire action   \n",
       "800         Brené Brown                         The power of vulnerability   \n",
       "444          Mary Roach             10 things you didn't know about orgasm   \n",
       "1695    Julian Treasure         How to speak so that people want to listen   \n",
       "198   Jill Bolte Taylor                               My stroke of insight   \n",
       "5          Tony Robbins                               Why we do what we do   \n",
       "2033       James Veitch  This is what happens when you reply to spam email   \n",
       "1338    Cameron Russell  Looks aren't everything. Believe me, I'm a model.   \n",
       "\n",
       "         views  \n",
       "0     47227110  \n",
       "1268  43155405  \n",
       "649   34309432  \n",
       "800   31168150  \n",
       "444   22270883  \n",
       "1695  21594632  \n",
       "198   21190883  \n",
       "5     20685401  \n",
       "2033  20475972  \n",
       "1338  19787465  "
      ]
     },
     "execution_count": 74,
     "metadata": {},
     "output_type": "execute_result"
    }
   ],
   "source": [
    "# Summary of top 10 viewed TED talks\n",
    "TED_combined[['main_speaker', 'title', 'views']].sort_values('views', ascending = False).head(10)"
   ]
  },
  {
   "cell_type": "markdown",
   "metadata": {},
   "source": [
    "### Reducing Dataset - Remove Unneccessary Rows/Columns\n",
    "- Since almost 98% of the Talks involved only 1 speaker, all talks with a higher count can be removed\n",
    "- The following columns **don't benefit the purposes of this project as it relates to Natural Language Processing:**\n",
    "    - Related Talks\n",
    "    - URL\n",
    "    - Languages\n",
    "    - Number of Speakers    \n",
    "    - Views - although helpful in identifying top videos above), offers no NLP analysis value\n",
    "    - Speaker Name (redundant - already in Main Speaker column)"
   ]
  },
  {
   "cell_type": "code",
   "execution_count": 75,
   "metadata": {},
   "outputs": [],
   "source": [
    "# Drop the above listed columns from the combined DataFrame\n",
    "TED_combined.drop(columns = ['related_talks', 'languages', 'url','name','views', 'num_speaker'], axis = 1, inplace = True)"
   ]
  },
  {
   "cell_type": "code",
   "execution_count": 76,
   "metadata": {},
   "outputs": [
    {
     "data": {
      "text/plain": [
       "(2467, 12)"
      ]
     },
     "execution_count": 76,
     "metadata": {},
     "output_type": "execute_result"
    }
   ],
   "source": [
    "# Inspect updated DataFrame shape\n",
    "TED_combined.shape"
   ]
  },
  {
   "cell_type": "markdown",
   "metadata": {},
   "source": [
    "After removing the 6 columns mentioned above, the DataFrame now consists of **2.467 rows and 12 columns**."
   ]
  },
  {
   "cell_type": "code",
   "execution_count": 77,
   "metadata": {},
   "outputs": [],
   "source": [
    "# Create empty count lists and loop through appending textstat counts accordingly\n",
    "sentence_cnt = []\n",
    "character_cnt = []\n",
    "word_cnt = []\n",
    "\n",
    "for i in TED_combined['transcript']:\n",
    "    \n",
    "    sentence_cnt.append(textstat.sentence_count(i))\n",
    "    character_cnt.append(textstat.char_count(i, ignore_spaces = True))\n",
    "    word_cnt.append(len(i.split()))"
   ]
  },
  {
   "cell_type": "code",
   "execution_count": 78,
   "metadata": {},
   "outputs": [],
   "source": [
    "# Add counts to main DataFrame\n",
    "TED_combined['sentence_cnt'] = sentence_cnt\n",
    "TED_combined['character_cnt'] = character_cnt\n",
    "TED_combined['word_cnt'] = word_cnt"
   ]
  },
  {
   "cell_type": "code",
   "execution_count": 79,
   "metadata": {},
   "outputs": [
    {
     "data": {
      "text/html": [
       "<div>\n",
       "<style scoped>\n",
       "    .dataframe tbody tr th:only-of-type {\n",
       "        vertical-align: middle;\n",
       "    }\n",
       "\n",
       "    .dataframe tbody tr th {\n",
       "        vertical-align: top;\n",
       "    }\n",
       "\n",
       "    .dataframe thead th {\n",
       "        text-align: right;\n",
       "    }\n",
       "</style>\n",
       "<table border=\"1\" class=\"dataframe\">\n",
       "  <thead>\n",
       "    <tr style=\"text-align: right;\">\n",
       "      <th></th>\n",
       "      <th>comments</th>\n",
       "      <th>description</th>\n",
       "      <th>duration</th>\n",
       "      <th>event</th>\n",
       "      <th>film_date</th>\n",
       "      <th>main_speaker</th>\n",
       "      <th>published_date</th>\n",
       "      <th>ratings</th>\n",
       "      <th>speaker_occupation</th>\n",
       "      <th>tags</th>\n",
       "      <th>title</th>\n",
       "      <th>transcript</th>\n",
       "      <th>sentence_cnt</th>\n",
       "      <th>character_cnt</th>\n",
       "      <th>word_cnt</th>\n",
       "    </tr>\n",
       "  </thead>\n",
       "  <tbody>\n",
       "    <tr>\n",
       "      <th>0</th>\n",
       "      <td>4553</td>\n",
       "      <td>Sir Ken Robinson makes an entertaining and pro...</td>\n",
       "      <td>1164</td>\n",
       "      <td>TED2006</td>\n",
       "      <td>2006-02-25</td>\n",
       "      <td>Ken Robinson</td>\n",
       "      <td>2006-02-25</td>\n",
       "      <td>[{'id': 7, 'name': 'Funny', 'count': 19645}, {...</td>\n",
       "      <td>Author/educator</td>\n",
       "      <td>['children', 'creativity', 'culture', 'dance',...</td>\n",
       "      <td>Do schools kill creativity?</td>\n",
       "      <td>Good morning. How are you?(Laughter)It's been ...</td>\n",
       "      <td>191</td>\n",
       "      <td>14344</td>\n",
       "      <td>3066</td>\n",
       "    </tr>\n",
       "    <tr>\n",
       "      <th>1</th>\n",
       "      <td>265</td>\n",
       "      <td>With the same humor and humanity he exuded in ...</td>\n",
       "      <td>977</td>\n",
       "      <td>TED2006</td>\n",
       "      <td>2006-02-25</td>\n",
       "      <td>Al Gore</td>\n",
       "      <td>2006-02-25</td>\n",
       "      <td>[{'id': 7, 'name': 'Funny', 'count': 544}, {'i...</td>\n",
       "      <td>Climate advocate</td>\n",
       "      <td>['alternative energy', 'cars', 'climate change...</td>\n",
       "      <td>Averting the climate crisis</td>\n",
       "      <td>Thank you so much, Chris. And it's truly a gre...</td>\n",
       "      <td>108</td>\n",
       "      <td>9726</td>\n",
       "      <td>2089</td>\n",
       "    </tr>\n",
       "    <tr>\n",
       "      <th>2</th>\n",
       "      <td>124</td>\n",
       "      <td>New York Times columnist David Pogue takes aim...</td>\n",
       "      <td>1286</td>\n",
       "      <td>TED2006</td>\n",
       "      <td>2006-02-24</td>\n",
       "      <td>David Pogue</td>\n",
       "      <td>2006-02-24</td>\n",
       "      <td>[{'id': 7, 'name': 'Funny', 'count': 964}, {'i...</td>\n",
       "      <td>Technology columnist</td>\n",
       "      <td>['computers', 'entertainment', 'interface desi...</td>\n",
       "      <td>Simplicity sells</td>\n",
       "      <td>(Music: \"The Sound of Silence,\" Simon &amp; Garfun...</td>\n",
       "      <td>223</td>\n",
       "      <td>15057</td>\n",
       "      <td>3253</td>\n",
       "    </tr>\n",
       "    <tr>\n",
       "      <th>3</th>\n",
       "      <td>200</td>\n",
       "      <td>In an emotionally charged talk, MacArthur-winn...</td>\n",
       "      <td>1116</td>\n",
       "      <td>TED2006</td>\n",
       "      <td>2006-02-26</td>\n",
       "      <td>Majora Carter</td>\n",
       "      <td>2006-02-26</td>\n",
       "      <td>[{'id': 3, 'name': 'Courageous', 'count': 760}...</td>\n",
       "      <td>Activist for environmental justice</td>\n",
       "      <td>['MacArthur grant', 'activism', 'business', 'c...</td>\n",
       "      <td>Greening the ghetto</td>\n",
       "      <td>If you're here today — and I'm very happy that...</td>\n",
       "      <td>152</td>\n",
       "      <td>15235</td>\n",
       "      <td>3015</td>\n",
       "    </tr>\n",
       "    <tr>\n",
       "      <th>4</th>\n",
       "      <td>593</td>\n",
       "      <td>You've never seen data presented like this. Wi...</td>\n",
       "      <td>1190</td>\n",
       "      <td>TED2006</td>\n",
       "      <td>2006-02-22</td>\n",
       "      <td>Hans Rosling</td>\n",
       "      <td>2006-02-22</td>\n",
       "      <td>[{'id': 9, 'name': 'Ingenious', 'count': 3202}...</td>\n",
       "      <td>Global health expert; data visionary</td>\n",
       "      <td>['Africa', 'Asia', 'Google', 'demo', 'economic...</td>\n",
       "      <td>The best stats you've ever seen</td>\n",
       "      <td>About 10 years ago, I took on the task to teac...</td>\n",
       "      <td>209</td>\n",
       "      <td>14245</td>\n",
       "      <td>3121</td>\n",
       "    </tr>\n",
       "  </tbody>\n",
       "</table>\n",
       "</div>"
      ],
      "text/plain": [
       "   comments                                        description  duration  \\\n",
       "0      4553  Sir Ken Robinson makes an entertaining and pro...      1164   \n",
       "1       265  With the same humor and humanity he exuded in ...       977   \n",
       "2       124  New York Times columnist David Pogue takes aim...      1286   \n",
       "3       200  In an emotionally charged talk, MacArthur-winn...      1116   \n",
       "4       593  You've never seen data presented like this. Wi...      1190   \n",
       "\n",
       "     event  film_date   main_speaker published_date  \\\n",
       "0  TED2006 2006-02-25   Ken Robinson     2006-02-25   \n",
       "1  TED2006 2006-02-25        Al Gore     2006-02-25   \n",
       "2  TED2006 2006-02-24    David Pogue     2006-02-24   \n",
       "3  TED2006 2006-02-26  Majora Carter     2006-02-26   \n",
       "4  TED2006 2006-02-22   Hans Rosling     2006-02-22   \n",
       "\n",
       "                                             ratings  \\\n",
       "0  [{'id': 7, 'name': 'Funny', 'count': 19645}, {...   \n",
       "1  [{'id': 7, 'name': 'Funny', 'count': 544}, {'i...   \n",
       "2  [{'id': 7, 'name': 'Funny', 'count': 964}, {'i...   \n",
       "3  [{'id': 3, 'name': 'Courageous', 'count': 760}...   \n",
       "4  [{'id': 9, 'name': 'Ingenious', 'count': 3202}...   \n",
       "\n",
       "                     speaker_occupation  \\\n",
       "0                       Author/educator   \n",
       "1                      Climate advocate   \n",
       "2                  Technology columnist   \n",
       "3    Activist for environmental justice   \n",
       "4  Global health expert; data visionary   \n",
       "\n",
       "                                                tags  \\\n",
       "0  ['children', 'creativity', 'culture', 'dance',...   \n",
       "1  ['alternative energy', 'cars', 'climate change...   \n",
       "2  ['computers', 'entertainment', 'interface desi...   \n",
       "3  ['MacArthur grant', 'activism', 'business', 'c...   \n",
       "4  ['Africa', 'Asia', 'Google', 'demo', 'economic...   \n",
       "\n",
       "                             title  \\\n",
       "0      Do schools kill creativity?   \n",
       "1      Averting the climate crisis   \n",
       "2                 Simplicity sells   \n",
       "3              Greening the ghetto   \n",
       "4  The best stats you've ever seen   \n",
       "\n",
       "                                          transcript  sentence_cnt  \\\n",
       "0  Good morning. How are you?(Laughter)It's been ...           191   \n",
       "1  Thank you so much, Chris. And it's truly a gre...           108   \n",
       "2  (Music: \"The Sound of Silence,\" Simon & Garfun...           223   \n",
       "3  If you're here today — and I'm very happy that...           152   \n",
       "4  About 10 years ago, I took on the task to teac...           209   \n",
       "\n",
       "   character_cnt  word_cnt  \n",
       "0          14344      3066  \n",
       "1           9726      2089  \n",
       "2          15057      3253  \n",
       "3          15235      3015  \n",
       "4          14245      3121  "
      ]
     },
     "execution_count": 79,
     "metadata": {},
     "output_type": "execute_result"
    }
   ],
   "source": [
    "# Examine the top 5 rows to confirm the 3 new columns above correctly mapped\n",
    "TED_combined.head()"
   ]
  },
  {
   "cell_type": "code",
   "execution_count": null,
   "metadata": {},
   "outputs": [],
   "source": [
    "# Convert Ratings column to individual dictionary lists of strings, by row\n",
    "TED_combined['ratings'] = [ast.literal_eval(x) for x in TED_combined['ratings']]"
   ]
  },
  {
   "cell_type": "code",
   "execution_count": 81,
   "metadata": {
    "scrolled": true
   },
   "outputs": [],
   "source": [
    "# Convert tags column to individual lists of strings, by row\n",
    "TED_combined['tags'] = [ast.literal_eval(x) for x in TED_combined['tags']]"
   ]
  },
  {
   "cell_type": "code",
   "execution_count": 46,
   "metadata": {
    "scrolled": true
   },
   "outputs": [],
   "source": [
    "# USE AST library to retrievbe list inside the string dtype list (ratings)\n",
    "# TED_combined['ratings'] = TED_combined['ratings'].apply(lambda x: ast.literal_eval(str(x)))"
   ]
  },
  {
   "cell_type": "code",
   "execution_count": 47,
   "metadata": {},
   "outputs": [],
   "source": [
    "# USE AST library to retrievbe list inside the string dtype list (ratings)\n",
    "# TED_combined[\"tags\"] = TED_combined[\"tags\"].apply(lambda x: ast.literal_eval(str(x)))"
   ]
  },
  {
   "cell_type": "code",
   "execution_count": 89,
   "metadata": {
    "scrolled": true
   },
   "outputs": [
    {
     "data": {
      "text/plain": [
       "[{'id': 7, 'name': 'Funny', 'count': 19645},\n",
       " {'id': 1, 'name': 'Beautiful', 'count': 4573},\n",
       " {'id': 9, 'name': 'Ingenious', 'count': 6073},\n",
       " {'id': 3, 'name': 'Courageous', 'count': 3253},\n",
       " {'id': 11, 'name': 'Longwinded', 'count': 387},\n",
       " {'id': 2, 'name': 'Confusing', 'count': 242},\n",
       " {'id': 8, 'name': 'Informative', 'count': 7346},\n",
       " {'id': 22, 'name': 'Fascinating', 'count': 10581},\n",
       " {'id': 21, 'name': 'Unconvincing', 'count': 300},\n",
       " {'id': 24, 'name': 'Persuasive', 'count': 10704},\n",
       " {'id': 23, 'name': 'Jaw-dropping', 'count': 4439},\n",
       " {'id': 25, 'name': 'OK', 'count': 1174},\n",
       " {'id': 26, 'name': 'Obnoxious', 'count': 209},\n",
       " {'id': 10, 'name': 'Inspiring', 'count': 24924}]"
      ]
     },
     "execution_count": 89,
     "metadata": {},
     "output_type": "execute_result"
    }
   ],
   "source": [
    "# Examine the list of all Ratings assigned to the first TED talk on the 1st row\n",
    "TED_combined['ratings'][0]"
   ]
  },
  {
   "cell_type": "code",
   "execution_count": 91,
   "metadata": {},
   "outputs": [
    {
     "data": {
      "text/plain": [
       "['children',\n",
       " 'creativity',\n",
       " 'culture',\n",
       " 'dance',\n",
       " 'education',\n",
       " 'parenting',\n",
       " 'teaching']"
      ]
     },
     "execution_count": 91,
     "metadata": {},
     "output_type": "execute_result"
    }
   ],
   "source": [
    "# Examine the list of all Tags assigned to the first TED talk on the 1st row\n",
    "TED_combined['tags'][0]"
   ]
  },
  {
   "cell_type": "markdown",
   "metadata": {},
   "source": [
    "The Ratings column now reflects a **list of dictionary entries for each rating and respective count assigned** - e.g. Funny at 19,645 for the 1st row."
   ]
  },
  {
   "cell_type": "code",
   "execution_count": 101,
   "metadata": {},
   "outputs": [],
   "source": [
    "# Function to extract total number from ratings column (list)\n",
    "def get_total(x):\n",
    "    count = 0\n",
    "    for i in x:\n",
    "        # i = dictionary counts\n",
    "        count += i['count'] # Increase by each row's dictionary 'count' key, summing up the totals\n",
    "    return count"
   ]
  },
  {
   "cell_type": "code",
   "execution_count": 102,
   "metadata": {},
   "outputs": [],
   "source": [
    "# Apply the above function to create a total of all Ted Ratings, by row/talk\n",
    "TED_combined['total_ratings'] = TED_combined['ratings'].apply(lambda x: get_total(x))"
   ]
  },
  {
   "cell_type": "code",
   "execution_count": 103,
   "metadata": {},
   "outputs": [
    {
     "data": {
      "text/plain": [
       "0       93850\n",
       "1        2936\n",
       "2        2824\n",
       "3        3728\n",
       "4       25620\n",
       "        ...  \n",
       "2462      192\n",
       "2463      151\n",
       "2464      136\n",
       "2465      583\n",
       "2466      142\n",
       "Name: total_ratings, Length: 2467, dtype: int64"
      ]
     },
     "execution_count": 103,
     "metadata": {},
     "output_type": "execute_result"
    }
   ],
   "source": [
    "TED_combined['total_ratings']"
   ]
  },
  {
   "cell_type": "code",
   "execution_count": 105,
   "metadata": {},
   "outputs": [
    {
     "data": {
      "text/html": [
       "<div>\n",
       "<style scoped>\n",
       "    .dataframe tbody tr th:only-of-type {\n",
       "        vertical-align: middle;\n",
       "    }\n",
       "\n",
       "    .dataframe tbody tr th {\n",
       "        vertical-align: top;\n",
       "    }\n",
       "\n",
       "    .dataframe thead th {\n",
       "        text-align: right;\n",
       "    }\n",
       "</style>\n",
       "<table border=\"1\" class=\"dataframe\">\n",
       "  <thead>\n",
       "    <tr style=\"text-align: right;\">\n",
       "      <th></th>\n",
       "      <th>comments</th>\n",
       "      <th>description</th>\n",
       "      <th>duration</th>\n",
       "      <th>event</th>\n",
       "      <th>film_date</th>\n",
       "      <th>main_speaker</th>\n",
       "      <th>published_date</th>\n",
       "      <th>ratings</th>\n",
       "      <th>speaker_occupation</th>\n",
       "      <th>tags</th>\n",
       "      <th>title</th>\n",
       "      <th>transcript</th>\n",
       "      <th>sentence_cnt</th>\n",
       "      <th>character_cnt</th>\n",
       "      <th>word_cnt</th>\n",
       "      <th>total_ratings</th>\n",
       "    </tr>\n",
       "  </thead>\n",
       "  <tbody>\n",
       "    <tr>\n",
       "      <th>0</th>\n",
       "      <td>4553</td>\n",
       "      <td>Sir Ken Robinson makes an entertaining and pro...</td>\n",
       "      <td>1164</td>\n",
       "      <td>TED2006</td>\n",
       "      <td>2006-02-25</td>\n",
       "      <td>Ken Robinson</td>\n",
       "      <td>2006-02-25</td>\n",
       "      <td>[{'id': 7, 'name': 'Funny', 'count': 19645}, {...</td>\n",
       "      <td>Author/educator</td>\n",
       "      <td>[children, creativity, culture, dance, educati...</td>\n",
       "      <td>Do schools kill creativity?</td>\n",
       "      <td>Good morning. How are you?(Laughter)It's been ...</td>\n",
       "      <td>191</td>\n",
       "      <td>14344</td>\n",
       "      <td>3066</td>\n",
       "      <td>93850</td>\n",
       "    </tr>\n",
       "    <tr>\n",
       "      <th>198</th>\n",
       "      <td>2877</td>\n",
       "      <td>Jill Bolte Taylor got a research opportunity f...</td>\n",
       "      <td>1099</td>\n",
       "      <td>TED2008</td>\n",
       "      <td>2008-02-27</td>\n",
       "      <td>Jill Bolte Taylor</td>\n",
       "      <td>2008-02-27</td>\n",
       "      <td>[{'id': 22, 'name': 'Fascinating', 'count': 14...</td>\n",
       "      <td>Neuroanatomist</td>\n",
       "      <td>[biology, brain, consciousness, global issues,...</td>\n",
       "      <td>My stroke of insight</td>\n",
       "      <td>I grew up to study the brain because I have a ...</td>\n",
       "      <td>140</td>\n",
       "      <td>11896</td>\n",
       "      <td>2660</td>\n",
       "      <td>70665</td>\n",
       "    </tr>\n",
       "    <tr>\n",
       "      <th>1268</th>\n",
       "      <td>2290</td>\n",
       "      <td>Body language affects how others see us, but i...</td>\n",
       "      <td>1262</td>\n",
       "      <td>TEDGlobal 2012</td>\n",
       "      <td>2012-06-26</td>\n",
       "      <td>Amy Cuddy</td>\n",
       "      <td>2012-06-26</td>\n",
       "      <td>[{'id': 23, 'name': 'Jaw-dropping', 'count': 3...</td>\n",
       "      <td>Social psychologist</td>\n",
       "      <td>[body language, brain, business, psychology, s...</td>\n",
       "      <td>Your body language may shape who you are</td>\n",
       "      <td>So I want to start by offering you a free no-t...</td>\n",
       "      <td>227</td>\n",
       "      <td>16409</td>\n",
       "      <td>3602</td>\n",
       "      <td>65968</td>\n",
       "    </tr>\n",
       "    <tr>\n",
       "      <th>800</th>\n",
       "      <td>1927</td>\n",
       "      <td>Brené Brown studies human connection -- our ab...</td>\n",
       "      <td>1219</td>\n",
       "      <td>TEDxHouston</td>\n",
       "      <td>2010-06-06</td>\n",
       "      <td>Brené Brown</td>\n",
       "      <td>2010-06-06</td>\n",
       "      <td>[{'id': 10, 'name': 'Inspiring', 'count': 2144...</td>\n",
       "      <td>Vulnerability researcher</td>\n",
       "      <td>[TEDx, communication, culture, depression, fea...</td>\n",
       "      <td>The power of vulnerability</td>\n",
       "      <td>So, I'll start with this: a couple years ago, ...</td>\n",
       "      <td>170</td>\n",
       "      <td>13781</td>\n",
       "      <td>3046</td>\n",
       "      <td>60078</td>\n",
       "    </tr>\n",
       "    <tr>\n",
       "      <th>649</th>\n",
       "      <td>1930</td>\n",
       "      <td>Simon Sinek has a simple but powerful model fo...</td>\n",
       "      <td>1084</td>\n",
       "      <td>TEDxPuget Sound</td>\n",
       "      <td>2009-09-17</td>\n",
       "      <td>Simon Sinek</td>\n",
       "      <td>2009-09-17</td>\n",
       "      <td>[{'id': 21, 'name': 'Unconvincing', 'count': 9...</td>\n",
       "      <td>Leadership expert</td>\n",
       "      <td>[TEDx, business, entrepreneur, leadership, suc...</td>\n",
       "      <td>How great leaders inspire action</td>\n",
       "      <td>How do you explain when things don't go as we ...</td>\n",
       "      <td>187</td>\n",
       "      <td>13758</td>\n",
       "      <td>2986</td>\n",
       "      <td>56779</td>\n",
       "    </tr>\n",
       "  </tbody>\n",
       "</table>\n",
       "</div>"
      ],
      "text/plain": [
       "      comments                                        description  duration  \\\n",
       "0         4553  Sir Ken Robinson makes an entertaining and pro...      1164   \n",
       "198       2877  Jill Bolte Taylor got a research opportunity f...      1099   \n",
       "1268      2290  Body language affects how others see us, but i...      1262   \n",
       "800       1927  Brené Brown studies human connection -- our ab...      1219   \n",
       "649       1930  Simon Sinek has a simple but powerful model fo...      1084   \n",
       "\n",
       "                 event  film_date       main_speaker published_date  \\\n",
       "0              TED2006 2006-02-25       Ken Robinson     2006-02-25   \n",
       "198            TED2008 2008-02-27  Jill Bolte Taylor     2008-02-27   \n",
       "1268    TEDGlobal 2012 2012-06-26          Amy Cuddy     2012-06-26   \n",
       "800        TEDxHouston 2010-06-06        Brené Brown     2010-06-06   \n",
       "649   TEDxPuget Sound  2009-09-17        Simon Sinek     2009-09-17   \n",
       "\n",
       "                                                ratings  \\\n",
       "0     [{'id': 7, 'name': 'Funny', 'count': 19645}, {...   \n",
       "198   [{'id': 22, 'name': 'Fascinating', 'count': 14...   \n",
       "1268  [{'id': 23, 'name': 'Jaw-dropping', 'count': 3...   \n",
       "800   [{'id': 10, 'name': 'Inspiring', 'count': 2144...   \n",
       "649   [{'id': 21, 'name': 'Unconvincing', 'count': 9...   \n",
       "\n",
       "            speaker_occupation  \\\n",
       "0              Author/educator   \n",
       "198             Neuroanatomist   \n",
       "1268       Social psychologist   \n",
       "800   Vulnerability researcher   \n",
       "649          Leadership expert   \n",
       "\n",
       "                                                   tags  \\\n",
       "0     [children, creativity, culture, dance, educati...   \n",
       "198   [biology, brain, consciousness, global issues,...   \n",
       "1268  [body language, brain, business, psychology, s...   \n",
       "800   [TEDx, communication, culture, depression, fea...   \n",
       "649   [TEDx, business, entrepreneur, leadership, suc...   \n",
       "\n",
       "                                         title  \\\n",
       "0                  Do schools kill creativity?   \n",
       "198                       My stroke of insight   \n",
       "1268  Your body language may shape who you are   \n",
       "800                 The power of vulnerability   \n",
       "649           How great leaders inspire action   \n",
       "\n",
       "                                             transcript  sentence_cnt  \\\n",
       "0     Good morning. How are you?(Laughter)It's been ...           191   \n",
       "198   I grew up to study the brain because I have a ...           140   \n",
       "1268  So I want to start by offering you a free no-t...           227   \n",
       "800   So, I'll start with this: a couple years ago, ...           170   \n",
       "649   How do you explain when things don't go as we ...           187   \n",
       "\n",
       "      character_cnt  word_cnt  total_ratings  \n",
       "0             14344      3066          93850  \n",
       "198           11896      2660          70665  \n",
       "1268          16409      3602          65968  \n",
       "800           13781      3046          60078  \n",
       "649           13758      2986          56779  "
      ]
     },
     "execution_count": 105,
     "metadata": {},
     "output_type": "execute_result"
    }
   ],
   "source": [
    "# Sort the dataset by highest count of reviews\n",
    "TED_combined.sort_values(by = 'total_ratings', ascending = False).head()"
   ]
  },
  {
   "cell_type": "code",
   "execution_count": 329,
   "metadata": {},
   "outputs": [
    {
     "data": {
      "text/plain": [
       "count     2467.000000\n",
       "mean      2451.769761\n",
       "std       4230.185265\n",
       "min         68.000000\n",
       "25%        881.500000\n",
       "50%       1463.000000\n",
       "75%       2521.000000\n",
       "max      93850.000000\n",
       "Name: total_ratings, dtype: float64"
      ]
     },
     "execution_count": 329,
     "metadata": {},
     "output_type": "execute_result"
    }
   ],
   "source": [
    "TED_combined['total_ratings'].describe()"
   ]
  },
  {
   "cell_type": "code",
   "execution_count": 342,
   "metadata": {},
   "outputs": [
    {
     "data": {
      "text/html": [
       "<div>\n",
       "<style scoped>\n",
       "    .dataframe tbody tr th:only-of-type {\n",
       "        vertical-align: middle;\n",
       "    }\n",
       "\n",
       "    .dataframe tbody tr th {\n",
       "        vertical-align: top;\n",
       "    }\n",
       "\n",
       "    .dataframe thead th {\n",
       "        text-align: right;\n",
       "    }\n",
       "</style>\n",
       "<table border=\"1\" class=\"dataframe\">\n",
       "  <thead>\n",
       "    <tr style=\"text-align: right;\">\n",
       "      <th></th>\n",
       "      <th>title</th>\n",
       "      <th>main_speaker</th>\n",
       "      <th>total_ratings</th>\n",
       "    </tr>\n",
       "  </thead>\n",
       "  <tbody>\n",
       "    <tr>\n",
       "      <th>2445</th>\n",
       "      <td>How your pictures can help reclaim lost history</td>\n",
       "      <td>Chance Coughenour</td>\n",
       "      <td>68</td>\n",
       "    </tr>\n",
       "  </tbody>\n",
       "</table>\n",
       "</div>"
      ],
      "text/plain": [
       "                                                title       main_speaker  \\\n",
       "2445  How your pictures can help reclaim lost history  Chance Coughenour   \n",
       "\n",
       "      total_ratings  \n",
       "2445             68  "
      ]
     },
     "execution_count": 342,
     "metadata": {},
     "output_type": "execute_result"
    }
   ],
   "source": [
    "# Identify the Video and Speaker with the lowest total rating counts\n",
    "TED_combined[['title', 'main_speaker','total_ratings']][TED_combined['total_ratings'] == TED_combined['total_ratings'].min()]"
   ]
  },
  {
   "cell_type": "code",
   "execution_count": 344,
   "metadata": {},
   "outputs": [
    {
     "data": {
      "text/html": [
       "<div>\n",
       "<style scoped>\n",
       "    .dataframe tbody tr th:only-of-type {\n",
       "        vertical-align: middle;\n",
       "    }\n",
       "\n",
       "    .dataframe tbody tr th {\n",
       "        vertical-align: top;\n",
       "    }\n",
       "\n",
       "    .dataframe thead th {\n",
       "        text-align: right;\n",
       "    }\n",
       "</style>\n",
       "<table border=\"1\" class=\"dataframe\">\n",
       "  <thead>\n",
       "    <tr style=\"text-align: right;\">\n",
       "      <th></th>\n",
       "      <th>title</th>\n",
       "      <th>main_speaker</th>\n",
       "      <th>total_ratings</th>\n",
       "    </tr>\n",
       "  </thead>\n",
       "  <tbody>\n",
       "    <tr>\n",
       "      <th>0</th>\n",
       "      <td>Do schools kill creativity?</td>\n",
       "      <td>Ken Robinson</td>\n",
       "      <td>93850</td>\n",
       "    </tr>\n",
       "  </tbody>\n",
       "</table>\n",
       "</div>"
      ],
      "text/plain": [
       "                         title  main_speaker  total_ratings\n",
       "0  Do schools kill creativity?  Ken Robinson          93850"
      ]
     },
     "execution_count": 344,
     "metadata": {},
     "output_type": "execute_result"
    }
   ],
   "source": [
    "# Identify the Video and Speaker with the highest total rating counts\n",
    "TED_combined[['title', 'main_speaker','total_ratings']][TED_combined['total_ratings'] == TED_combined['total_ratings'].max()]"
   ]
  },
  {
   "cell_type": "markdown",
   "metadata": {},
   "source": [
    "The most rated TED talk of all time is **Do schools kill creativity? by Ken Robinson (93,850 total reviews)**."
   ]
  },
  {
   "cell_type": "code",
   "execution_count": 364,
   "metadata": {},
   "outputs": [
    {
     "data": {
      "text/plain": [
       "34538"
      ]
     },
     "execution_count": 364,
     "metadata": {},
     "output_type": "execute_result"
    }
   ],
   "source": [
    "# Create an empty list to append all ratings from the combined dictionary, looping through each iteration in prior lists\n",
    "ratings = []\n",
    "for h in range(0,len(TED_combined)):\n",
    "    for i in TED_combined['ratings'][h]:\n",
    "        ratings.append(i['name'])"
   ]
  },
  {
   "cell_type": "code",
   "execution_count": 386,
   "metadata": {
    "scrolled": false
   },
   "outputs": [
    {
     "data": {
      "text/plain": [
       "['Funny',\n",
       " 'Beautiful',\n",
       " 'Ingenious',\n",
       " 'Courageous',\n",
       " 'Longwinded',\n",
       " 'Confusing',\n",
       " 'Informative',\n",
       " 'Fascinating',\n",
       " 'Unconvincing',\n",
       " 'Persuasive',\n",
       " 'Jaw-dropping',\n",
       " 'OK',\n",
       " 'Obnoxious',\n",
       " 'Inspiring',\n",
       " 'Funny',\n",
       " 'Courageous',\n",
       " 'Confusing',\n",
       " 'Beautiful',\n",
       " 'Unconvincing',\n",
       " 'Longwinded',\n",
       " 'Informative',\n",
       " 'Inspiring',\n",
       " 'Fascinating',\n",
       " 'Ingenious',\n",
       " 'Persuasive',\n",
       " 'Jaw-dropping',\n",
       " 'Obnoxious',\n",
       " 'OK']"
      ]
     },
     "execution_count": 386,
     "metadata": {},
     "output_type": "execute_result"
    }
   ],
   "source": [
    "# Confirm that the first 28 records in the ratings list against the first two rows in the DataFrame for ratings\n",
    "ratings[0:28]"
   ]
  },
  {
   "cell_type": "code",
   "execution_count": 387,
   "metadata": {},
   "outputs": [
    {
     "data": {
      "text/plain": [
       "[{'id': 7, 'name': 'Funny', 'count': 19645},\n",
       " {'id': 1, 'name': 'Beautiful', 'count': 4573},\n",
       " {'id': 9, 'name': 'Ingenious', 'count': 6073},\n",
       " {'id': 3, 'name': 'Courageous', 'count': 3253},\n",
       " {'id': 11, 'name': 'Longwinded', 'count': 387},\n",
       " {'id': 2, 'name': 'Confusing', 'count': 242},\n",
       " {'id': 8, 'name': 'Informative', 'count': 7346},\n",
       " {'id': 22, 'name': 'Fascinating', 'count': 10581},\n",
       " {'id': 21, 'name': 'Unconvincing', 'count': 300},\n",
       " {'id': 24, 'name': 'Persuasive', 'count': 10704},\n",
       " {'id': 23, 'name': 'Jaw-dropping', 'count': 4439},\n",
       " {'id': 25, 'name': 'OK', 'count': 1174},\n",
       " {'id': 26, 'name': 'Obnoxious', 'count': 209},\n",
       " {'id': 10, 'name': 'Inspiring', 'count': 24924},\n",
       " {'id': 7, 'name': 'Funny', 'count': 544},\n",
       " {'id': 3, 'name': 'Courageous', 'count': 139},\n",
       " {'id': 2, 'name': 'Confusing', 'count': 62},\n",
       " {'id': 1, 'name': 'Beautiful', 'count': 58},\n",
       " {'id': 21, 'name': 'Unconvincing', 'count': 258},\n",
       " {'id': 11, 'name': 'Longwinded', 'count': 113},\n",
       " {'id': 8, 'name': 'Informative', 'count': 443},\n",
       " {'id': 10, 'name': 'Inspiring', 'count': 413},\n",
       " {'id': 22, 'name': 'Fascinating', 'count': 132},\n",
       " {'id': 9, 'name': 'Ingenious', 'count': 56},\n",
       " {'id': 24, 'name': 'Persuasive', 'count': 268},\n",
       " {'id': 23, 'name': 'Jaw-dropping', 'count': 116},\n",
       " {'id': 26, 'name': 'Obnoxious', 'count': 131},\n",
       " {'id': 25, 'name': 'OK', 'count': 203}]"
      ]
     },
     "execution_count": 387,
     "metadata": {},
     "output_type": "execute_result"
    }
   ],
   "source": [
    "# The list below for the Name keys should match the list above, for each of the 28 records\n",
    "TED_combined['ratings'][0] + TED_combined['ratings'][1]"
   ]
  },
  {
   "cell_type": "code",
   "execution_count": 393,
   "metadata": {},
   "outputs": [],
   "source": [
    "unq_ratings = [i for n, i in enumerate(ratings) if i not in ratings[:n]]"
   ]
  },
  {
   "cell_type": "code",
   "execution_count": 411,
   "metadata": {},
   "outputs": [
    {
     "data": {
      "text/plain": [
       "['Funny',\n",
       " 'Beautiful',\n",
       " 'Ingenious',\n",
       " 'Courageous',\n",
       " 'Longwinded',\n",
       " 'Confusing',\n",
       " 'Informative',\n",
       " 'Fascinating',\n",
       " 'Unconvincing',\n",
       " 'Persuasive',\n",
       " 'Jaw-dropping',\n",
       " 'OK',\n",
       " 'Obnoxious',\n",
       " 'Inspiring']"
      ]
     },
     "execution_count": 411,
     "metadata": {},
     "output_type": "execute_result"
    }
   ],
   "source": [
    "unq_ratings"
   ]
  },
  {
   "cell_type": "code",
   "execution_count": 410,
   "metadata": {},
   "outputs": [
    {
     "name": "stdout",
     "output_type": "stream",
     "text": [
      "Length of Unique Ratings List: 14\n"
     ]
    }
   ],
   "source": [
    "print(\"Length of Unique Ratings List: {}\".format(len(unq_ratings)))"
   ]
  },
  {
   "cell_type": "code",
   "execution_count": null,
   "metadata": {},
   "outputs": [],
   "source": []
  },
  {
   "cell_type": "code",
   "execution_count": null,
   "metadata": {},
   "outputs": [],
   "source": []
  },
  {
   "cell_type": "code",
   "execution_count": null,
   "metadata": {},
   "outputs": [],
   "source": []
  },
  {
   "cell_type": "code",
   "execution_count": null,
   "metadata": {
    "scrolled": true
   },
   "outputs": [],
   "source": [
    "sent = sent_tokenize(TED_combined['transcript'][0])\n",
    "sent"
   ]
  },
  {
   "cell_type": "code",
   "execution_count": null,
   "metadata": {},
   "outputs": [],
   "source": [
    "# Tokenize Transcripts and Remove Stopwords\n",
    "stop_words = set(stopwords.words('english'))\n",
    "\n",
    "result = [i for i in sent if not i in stop_words]\n",
    "print(result)"
   ]
  },
  {
   "cell_type": "code",
   "execution_count": null,
   "metadata": {},
   "outputs": [],
   "source": [
    "# Tokenize Transcripts and Remove Stopwords\n",
    "\n",
    "stop_words = set(stopwords.words('english'))\n",
    "tokens = word_tokenize(TED_combined['transcript'][0])\n",
    "result = [i for i in tokens if not i in stop_words]\n",
    "print(result)"
   ]
  },
  {
   "cell_type": "code",
   "execution_count": null,
   "metadata": {
    "scrolled": true
   },
   "outputs": [],
   "source": [
    "for line in result:\n",
    "    re.sub(pattern = '\\W', repl = '', string = line)\n",
    "    print(line)"
   ]
  },
  {
   "cell_type": "code",
   "execution_count": null,
   "metadata": {},
   "outputs": [],
   "source": [
    "input_str = 'NLTK is a leading platform for building Python programs to work with human language data.'\n",
    "stop_words = set(stopwords.words('english'))\n",
    "from nltk.tokenize import word_tokenize\n",
    "tokens = word_tokenize(input_str)\n",
    "result = [i for i in tokens if not i in stop_words]\n",
    "print (result)"
   ]
  },
  {
   "cell_type": "code",
   "execution_count": null,
   "metadata": {},
   "outputs": [],
   "source": [
    "stemmer= PorterStemmer()\n",
    "for word in result:\n",
    "    print(stemmer.stem(word))"
   ]
  },
  {
   "cell_type": "code",
   "execution_count": null,
   "metadata": {},
   "outputs": [],
   "source": [
    "TED_combined['transcript'][0].lower().split()"
   ]
  }
 ],
 "metadata": {
  "kernelspec": {
   "display_name": "Python 3",
   "language": "python",
   "name": "python3"
  },
  "language_info": {
   "codemirror_mode": {
    "name": "ipython",
    "version": 3
   },
   "file_extension": ".py",
   "mimetype": "text/x-python",
   "name": "python",
   "nbconvert_exporter": "python",
   "pygments_lexer": "ipython3",
   "version": "3.8.5"
  }
 },
 "nbformat": 4,
 "nbformat_minor": 5
}
